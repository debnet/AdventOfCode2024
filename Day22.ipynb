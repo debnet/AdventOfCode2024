{
 "cells": [
  {
   "cell_type": "code",
   "execution_count": 1,
   "id": "47288683-3038-4c37-be8f-e0ce2ef9bc5d",
   "metadata": {},
   "outputs": [],
   "source": [
    "with open(\"Day22.txt\") as file:\n",
    "    secrets = list(map(int, file.readlines()))"
   ]
  },
  {
   "cell_type": "code",
   "execution_count": 2,
   "id": "864bb966-e2ea-4a55-9cc2-acdeae5d0067",
   "metadata": {},
   "outputs": [],
   "source": [
    "from functools import cache\n",
    "\n",
    "@cache\n",
    "def evolve(number):\n",
    "    number = (number ^ (number * 64)) % 16777216\n",
    "    number = (number ^ (number // 32)) % 16777216\n",
    "    return (number ^ (number * 2048)) % 16777216"
   ]
  },
  {
   "cell_type": "code",
   "execution_count": 3,
   "id": "9dc19d62-f7ea-4006-807b-e141827f9d5b",
   "metadata": {},
   "outputs": [
    {
     "name": "stdout",
     "output_type": "stream",
     "text": [
      "CPU times: user 1.56 s, sys: 107 ms, total: 1.67 s\n",
      "Wall time: 1.67 s\n"
     ]
    },
    {
     "data": {
      "text/plain": [
       "19877757850"
      ]
     },
     "execution_count": 3,
     "metadata": {},
     "output_type": "execute_result"
    }
   ],
   "source": [
    "%%time\n",
    "def generate(secret, times=2000):\n",
    "    results = [secret]\n",
    "    for _ in range(times):\n",
    "        secret = evolve(secret)\n",
    "        results.append(secret)\n",
    "    return results\n",
    "\n",
    "merchants = [generate(secret) for secret in secrets]\n",
    "sum(merchant[-1] for merchant in merchants)"
   ]
  },
  {
   "cell_type": "code",
   "execution_count": 4,
   "id": "3c66d5cb-91e4-41e6-98a7-38cae7b1ee39",
   "metadata": {},
   "outputs": [
    {
     "name": "stdout",
     "output_type": "stream",
     "text": [
      "CPU times: user 2.39 s, sys: 975 μs, total: 2.39 s\n",
      "Wall time: 2.4 s\n"
     ]
    },
    {
     "data": {
      "text/plain": [
       "2399"
      ]
     },
     "execution_count": 4,
     "metadata": {},
     "output_type": "execute_result"
    }
   ],
   "source": [
    "%%time\n",
    "from collections import defaultdict\n",
    "from more_itertools import windowed\n",
    "\n",
    "def solve(merchants):\n",
    "    results = defaultdict(int)\n",
    "    for merchant in merchants:\n",
    "        sequences = set()\n",
    "        for a, b, c, d, e in windowed(merchant, 5):\n",
    "            a, b, c, d, e = a % 10, b % 10, c % 10, d % 10, e % 10\n",
    "            sequence = (b - a, c - b, d - c, e - d)\n",
    "            if sequence in sequences:\n",
    "                continue\n",
    "            results[sequence] += e\n",
    "            sequences.add(sequence)\n",
    "    return max(results.values())\n",
    "\n",
    "solve(merchants)"
   ]
  }
 ],
 "metadata": {
  "kernelspec": {
   "display_name": "Python 3 (ipykernel)",
   "language": "python",
   "name": "python3"
  },
  "language_info": {
   "codemirror_mode": {
    "name": "ipython",
    "version": 3
   },
   "file_extension": ".py",
   "mimetype": "text/x-python",
   "name": "python",
   "nbconvert_exporter": "python",
   "pygments_lexer": "ipython3",
   "version": "3.12.7"
  }
 },
 "nbformat": 4,
 "nbformat_minor": 5
}
