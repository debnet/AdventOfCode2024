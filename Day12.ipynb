{
 "cells": [
  {
   "cell_type": "code",
   "execution_count": 1,
   "id": "a3eb8310-345e-43bb-88e7-07c1d381a8a4",
   "metadata": {},
   "outputs": [],
   "source": [
    "grid = {}\n",
    "with open(\"Day12.txt\") as file:\n",
    "    for y, line in enumerate(file):\n",
    "        for x, char in enumerate(line.strip()):\n",
    "            grid[x, y] = char"
   ]
  },
  {
   "cell_type": "code",
   "execution_count": 2,
   "id": "d6e00cd6-08fd-46a1-8266-675a86031991",
   "metadata": {},
   "outputs": [],
   "source": [
    "regions = []\n",
    "todo = set(grid)\n",
    "while todo:\n",
    "    cell = todo.pop()\n",
    "    val = grid.get(cell)\n",
    "    region = set()\n",
    "    ntodo = {cell}\n",
    "    while ntodo:\n",
    "        x, y = ncell = ntodo.pop()\n",
    "        region.add(ncell)\n",
    "        for dx, dy in ((-1, 0), (+1, 0), (0, -1), (0, +1)):\n",
    "            nx, ny = x + dx, y + dy\n",
    "            nval = grid.get((nx, ny))\n",
    "            if (nx, ny) not in region and val == nval:\n",
    "                ntodo.add((nx, ny))\n",
    "    todo -= region\n",
    "    regions.append(region)"
   ]
  },
  {
   "cell_type": "code",
   "execution_count": 3,
   "id": "b5e86ad5-9095-443a-9240-ffce364cb929",
   "metadata": {},
   "outputs": [],
   "source": [
    "def perimeter(region):\n",
    "    result = 0\n",
    "    for x, y in region:\n",
    "        for dx, dy in ((-1, 0), (+1, 0), (0, -1), (0, +1)):\n",
    "            nx, ny = x + dx, y + dy\n",
    "            result += (nx, ny) not in region\n",
    "    return result"
   ]
  },
  {
   "cell_type": "code",
   "execution_count": 4,
   "id": "b689f41e-5552-4e55-8d9b-ba01cfafdbd0",
   "metadata": {},
   "outputs": [
    {
     "name": "stdout",
     "output_type": "stream",
     "text": [
      "CPU times: user 5.93 ms, sys: 1 μs, total: 5.93 ms\n",
      "Wall time: 5.92 ms\n"
     ]
    },
    {
     "data": {
      "text/plain": [
       "1494342"
      ]
     },
     "execution_count": 4,
     "metadata": {},
     "output_type": "execute_result"
    }
   ],
   "source": [
    "%%time\n",
    "sum(len(region) * perimeter(region) for region in regions)"
   ]
  },
  {
   "cell_type": "code",
   "execution_count": 5,
   "id": "4c35661e-c194-4131-a292-c8ea16de792f",
   "metadata": {},
   "outputs": [],
   "source": [
    "def sides(region):\n",
    "    result = 0\n",
    "    for x, y in region:\n",
    "        # Outer corners\n",
    "        result += (x-1, y) not in region and (x, y-1) not in region\n",
    "        result += (x+1, y) not in region and (x, y-1) not in region\n",
    "        result += (x-1, y) not in region and (x, y+1) not in region\n",
    "        result += (x+1, y) not in region and (x, y+1) not in region\n",
    "        # Inner corners\n",
    "        result += (x-1, y) in region and (x, y-1) in region and (x-1, y-1) not in region\n",
    "        result += (x+1, y) in region and (x, y-1) in region and (x+1, y-1) not in region\n",
    "        result += (x-1, y) in region and (x, y+1) in region and (x-1, y+1) not in region\n",
    "        result += (x+1, y) in region and (x, y+1) in region and (x+1, y+1) not in region\n",
    "    return result"
   ]
  },
  {
   "cell_type": "code",
   "execution_count": 6,
   "id": "47225bff-7bef-4927-b9b1-9a318d194ab6",
   "metadata": {},
   "outputs": [
    {
     "name": "stdout",
     "output_type": "stream",
     "text": [
      "CPU times: user 15.8 ms, sys: 0 ns, total: 15.8 ms\n",
      "Wall time: 15.7 ms\n"
     ]
    },
    {
     "data": {
      "text/plain": [
       "893676"
      ]
     },
     "execution_count": 6,
     "metadata": {},
     "output_type": "execute_result"
    }
   ],
   "source": [
    "%%time\n",
    "sum(len(region) * sides(region) for region in regions)"
   ]
  }
 ],
 "metadata": {
  "kernelspec": {
   "display_name": "Python 3 (ipykernel)",
   "language": "python",
   "name": "python3"
  },
  "language_info": {
   "codemirror_mode": {
    "name": "ipython",
    "version": 3
   },
   "file_extension": ".py",
   "mimetype": "text/x-python",
   "name": "python",
   "nbconvert_exporter": "python",
   "pygments_lexer": "ipython3",
   "version": "3.12.7"
  }
 },
 "nbformat": 4,
 "nbformat_minor": 5
}
