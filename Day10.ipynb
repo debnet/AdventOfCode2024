{
 "cells": [
  {
   "cell_type": "code",
   "execution_count": 1,
   "id": "b9fb2e2b-2aac-42b0-885b-49fcdf930aba",
   "metadata": {},
   "outputs": [],
   "source": [
    "grid = {}\n",
    "with open(\"Day10.txt\") as file:\n",
    "    for y, line in enumerate(file):\n",
    "        for x, v in enumerate(line.strip()):\n",
    "            grid[x, y] = int(v)"
   ]
  },
  {
   "cell_type": "code",
   "execution_count": 2,
   "id": "0302ac04-df3e-487d-a645-1930da7e1727",
   "metadata": {},
   "outputs": [],
   "source": [
    "import networkx as nx\n",
    "\n",
    "G = nx.DiGraph()\n",
    "starts, ends = set(), set()\n",
    "for p, v in grid.items():\n",
    "    G.add_node(p, pos=p, value=v)\n",
    "    if v == 0:\n",
    "        starts.add(p)\n",
    "    elif v == 9:\n",
    "        ends.add(p)\n",
    "for (x, y), v in grid.items():\n",
    "    for dx, dy in ((0, +1), (0, -1), (+1, 0), (-1, 0)):\n",
    "        r = grid.get((x + dx, y + dy))\n",
    "        if r is None:\n",
    "            continue\n",
    "        if r + 1 == v:\n",
    "            G.add_edge((x + dx, y + dy), (x, y))\n",
    "        elif r == v + 1:\n",
    "            G.add_edge((x, y), (x + dx, y + dy))\n",
    "G.remove_nodes_from(list(nx.isolates(G)))"
   ]
  },
  {
   "cell_type": "code",
   "execution_count": 3,
   "id": "6282d27a-9b21-429e-bcdd-41332a3e3093",
   "metadata": {},
   "outputs": [
    {
     "name": "stdout",
     "output_type": "stream",
     "text": [
      "CPU times: user 2.91 ms, sys: 0 ns, total: 2.91 ms\n",
      "Wall time: 2.86 ms\n"
     ]
    },
    {
     "data": {
      "text/plain": [
       "794"
      ]
     },
     "execution_count": 3,
     "metadata": {},
     "output_type": "execute_result"
    }
   ],
   "source": [
    "%%time\n",
    "trails = {start: ends & nx.descendants(G, start) for start in starts}\n",
    "sum(map(len, trails.values()))"
   ]
  },
  {
   "cell_type": "code",
   "execution_count": 4,
   "id": "2c596333-e295-4607-a474-cb879201e9a7",
   "metadata": {},
   "outputs": [
    {
     "name": "stdout",
     "output_type": "stream",
     "text": [
      "CPU times: user 5.42 ms, sys: 0 ns, total: 5.42 ms\n",
      "Wall time: 5.42 ms\n"
     ]
    },
    {
     "data": {
      "text/plain": [
       "1706"
      ]
     },
     "execution_count": 4,
     "metadata": {},
     "output_type": "execute_result"
    }
   ],
   "source": [
    "%%time\n",
    "from collections import Counter\n",
    "\n",
    "counts = Counter(dict.fromkeys(starts, 1))\n",
    "for node in nx.topological_sort(G):\n",
    "    for dest in G.successors(node):\n",
    "        counts[dest] += counts[node]\n",
    "sum(counts[end] for end in ends)"
   ]
  }
 ],
 "metadata": {
  "kernelspec": {
   "display_name": "Python 3 (ipykernel)",
   "language": "python",
   "name": "python3"
  },
  "language_info": {
   "codemirror_mode": {
    "name": "ipython",
    "version": 3
   },
   "file_extension": ".py",
   "mimetype": "text/x-python",
   "name": "python",
   "nbconvert_exporter": "python",
   "pygments_lexer": "ipython3",
   "version": "3.12.7"
  }
 },
 "nbformat": 4,
 "nbformat_minor": 5
}
