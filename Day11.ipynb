{
 "cells": [
  {
   "cell_type": "code",
   "execution_count": 1,
   "id": "17947066-09a9-4709-808e-84b34e5e5ce0",
   "metadata": {},
   "outputs": [],
   "source": [
    "with open(\"Day11.txt\") as file:\n",
    "    stones = list(map(int, file.read().split()))"
   ]
  },
  {
   "cell_type": "code",
   "execution_count": 2,
   "id": "0b550309-6a5f-4248-aa04-b5e354d4fea4",
   "metadata": {},
   "outputs": [],
   "source": [
    "from functools import cache\n",
    "\n",
    "@cache\n",
    "def solve(stone, blinks):\n",
    "    if blinks == 0:\n",
    "        return 1\n",
    "    if stone == 0:\n",
    "        return solve(1, blinks - 1)\n",
    "    if (size := len(string := str(stone))) % 2 == 0:\n",
    "        sep = size // 2\n",
    "        left = solve(int(string[:sep]), blinks - 1)\n",
    "        rght = solve(int(string[sep:]), blinks - 1)\n",
    "        return left + rght\n",
    "    return solve(stone * 2024, blinks - 1)"
   ]
  },
  {
   "cell_type": "code",
   "execution_count": 3,
   "id": "184adc86-bfd2-48de-9a6b-28dafabb8f24",
   "metadata": {},
   "outputs": [
    {
     "name": "stdout",
     "output_type": "stream",
     "text": [
      "CPU times: user 1.18 ms, sys: 24 μs, total: 1.2 ms\n",
      "Wall time: 1.21 ms\n"
     ]
    },
    {
     "data": {
      "text/plain": [
       "217812"
      ]
     },
     "execution_count": 3,
     "metadata": {},
     "output_type": "execute_result"
    }
   ],
   "source": [
    "%%time\n",
    "sum(solve(stone, 25) for stone in stones)"
   ]
  },
  {
   "cell_type": "code",
   "execution_count": 4,
   "id": "d4df5b7c-60b5-4c92-8250-7f38fd1db752",
   "metadata": {},
   "outputs": [
    {
     "name": "stdout",
     "output_type": "stream",
     "text": [
      "CPU times: user 68.7 ms, sys: 11.7 ms, total: 80.3 ms\n",
      "Wall time: 81.2 ms\n"
     ]
    },
    {
     "data": {
      "text/plain": [
       "259112729857522"
      ]
     },
     "execution_count": 4,
     "metadata": {},
     "output_type": "execute_result"
    }
   ],
   "source": [
    "%%time\n",
    "sum(solve(stone, 75) for stone in stones)"
   ]
  }
 ],
 "metadata": {
  "kernelspec": {
   "display_name": "Python 3 (ipykernel)",
   "language": "python",
   "name": "python3"
  },
  "language_info": {
   "codemirror_mode": {
    "name": "ipython",
    "version": 3
   },
   "file_extension": ".py",
   "mimetype": "text/x-python",
   "name": "python",
   "nbconvert_exporter": "python",
   "pygments_lexer": "ipython3",
   "version": "3.12.7"
  }
 },
 "nbformat": 4,
 "nbformat_minor": 5
}
