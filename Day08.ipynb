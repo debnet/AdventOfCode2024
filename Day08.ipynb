{
 "cells": [
  {
   "cell_type": "code",
   "execution_count": 1,
   "id": "4d89cf66-8fb5-4301-bc93-43dba96807ca",
   "metadata": {},
   "outputs": [],
   "source": [
    "from collections import defaultdict\n",
    "\n",
    "nodes = defaultdict(set)\n",
    "with open(\"Day08.txt\") as file:\n",
    "    for y, line in enumerate(file):\n",
    "        for x, char in enumerate(line.strip()):\n",
    "            if char == \".\":\n",
    "                continue\n",
    "            nodes[char].add((x, y))\n",
    "width, height = x, y"
   ]
  },
  {
   "cell_type": "code",
   "execution_count": 2,
   "id": "99fea47e-5cb3-4355-8a5a-2136e78b26a7",
   "metadata": {},
   "outputs": [],
   "source": [
    "from itertools import product\n",
    "\n",
    "def solve(nodes, recursive=False):\n",
    "    antinodes = set()\n",
    "    for signal, nodes in nodes.items():\n",
    "        for (x1, y1), (x2, y2) in product(nodes, repeat=2):\n",
    "            if (x1, y1) == (x2, y2):\n",
    "                continue\n",
    "            x3, y3 = 2 * x2 - x1, 2 * y2 - y1\n",
    "            if recursive:\n",
    "                antinodes.add((x2, y2))\n",
    "            while 0 <= x3 <= width and 0 <= y3 <= height:\n",
    "                antinodes.add((x3, y3))\n",
    "                if not recursive:\n",
    "                    break\n",
    "                x1, y1, x2, y2 = x2, y2, x3, y3\n",
    "                x3, y3 = 2 * x2 - x1, 2 * y2 - y1\n",
    "    return len(antinodes)"
   ]
  },
  {
   "cell_type": "code",
   "execution_count": 3,
   "id": "b8101021-01d0-4ef2-99d7-401ab5df30fd",
   "metadata": {},
   "outputs": [
    {
     "data": {
      "text/plain": [
       "400"
      ]
     },
     "execution_count": 3,
     "metadata": {},
     "output_type": "execute_result"
    }
   ],
   "source": [
    "solve(nodes)"
   ]
  },
  {
   "cell_type": "code",
   "execution_count": 4,
   "id": "36c8ab88-c19e-430e-9b82-855b583ac7e9",
   "metadata": {},
   "outputs": [
    {
     "data": {
      "text/plain": [
       "1280"
      ]
     },
     "execution_count": 4,
     "metadata": {},
     "output_type": "execute_result"
    }
   ],
   "source": [
    "solve(nodes, recursive=True)"
   ]
  }
 ],
 "metadata": {
  "kernelspec": {
   "display_name": "Python 3 (ipykernel)",
   "language": "python",
   "name": "python3"
  },
  "language_info": {
   "codemirror_mode": {
    "name": "ipython",
    "version": 3
   },
   "file_extension": ".py",
   "mimetype": "text/x-python",
   "name": "python",
   "nbconvert_exporter": "python",
   "pygments_lexer": "ipython3",
   "version": "3.12.7"
  }
 },
 "nbformat": 4,
 "nbformat_minor": 5
}
