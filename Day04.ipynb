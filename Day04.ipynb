{
 "cells": [
  {
   "cell_type": "code",
   "execution_count": 1,
   "id": "dc3542d8-48d4-43dc-b889-fc06803d1226",
   "metadata": {},
   "outputs": [],
   "source": [
    "with open(\"Day04.txt\") as file:\n",
    "    grid = file.read().splitlines()"
   ]
  },
  {
   "cell_type": "code",
   "execution_count": 2,
   "id": "2c04709c-92e8-40e5-833b-a45c5a0c0a5f",
   "metadata": {},
   "outputs": [],
   "source": [
    "from collections import defaultdict\n",
    "\n",
    "def count_word(grid, word):\n",
    "    count = 0\n",
    "    for line in grid:\n",
    "        count += line.count(word)\n",
    "        count += line[::-1].count(word)\n",
    "    for line in zip(*grid[::-1]):\n",
    "        line = \"\".join(line)\n",
    "        count += line.count(word)\n",
    "        count += line[::-1].count(word)\n",
    "    fdiag, bdiag = defaultdict(list), defaultdict(list)\n",
    "    for y, line in enumerate(grid):\n",
    "        for x, char in enumerate(line):\n",
    "            fdiag[x + y].append(char)\n",
    "            bdiag[x - y].append(char)\n",
    "    for line in fdiag.values():\n",
    "        if len(line) < len(word):\n",
    "            continue\n",
    "        line = \"\".join(line)\n",
    "        count += line.count(word)\n",
    "        count += line[::-1].count(word)\n",
    "    for line in bdiag.values():\n",
    "        if len(line) < len(word):\n",
    "            continue\n",
    "        line = \"\".join(line)\n",
    "        count += line.count(word)\n",
    "        count += line[::-1].count(word)\n",
    "    return count"
   ]
  },
  {
   "cell_type": "code",
   "execution_count": 3,
   "id": "9685e43a-7c55-4626-a63a-ae24e6b3dd4c",
   "metadata": {},
   "outputs": [
    {
     "data": {
      "text/plain": [
       "2414"
      ]
     },
     "execution_count": 3,
     "metadata": {},
     "output_type": "execute_result"
    }
   ],
   "source": [
    "count_word(grid, \"XMAS\")"
   ]
  },
  {
   "cell_type": "code",
   "execution_count": 4,
   "id": "c43ecf63-5845-40d1-9c2a-749803a613c0",
   "metadata": {},
   "outputs": [],
   "source": [
    "def count_cross(grid, word):\n",
    "    count, pivot, offset = 0, word[len(word) // 2], len(word) - 2\n",
    "    offsets = tuple(range(-offset, offset + 1))\n",
    "    grid = {(x, y): char for (y, line) in enumerate(grid) for (x, char) in enumerate(line)}\n",
    "    for (x, y), char in grid.items():\n",
    "        if char != pivot:\n",
    "            continue\n",
    "        fdiag = \"\".join(grid.get((x + o, y + o), \"\") for o in offsets)\n",
    "        bdiag = \"\".join(grid.get((x + o, y - o), \"\") for o in offsets)\n",
    "        count += (\n",
    "            (fdiag == word or fdiag[::-1] == word) and \n",
    "            (bdiag == word or bdiag[::-1] == word))\n",
    "    return count"
   ]
  },
  {
   "cell_type": "code",
   "execution_count": 5,
   "id": "18a27662-6882-4ac9-b470-722efb4706fe",
   "metadata": {},
   "outputs": [
    {
     "data": {
      "text/plain": [
       "1871"
      ]
     },
     "execution_count": 5,
     "metadata": {},
     "output_type": "execute_result"
    }
   ],
   "source": [
    "count_cross(grid, \"MAS\")"
   ]
  }
 ],
 "metadata": {
  "kernelspec": {
   "display_name": "Python 3 (ipykernel)",
   "language": "python",
   "name": "python3"
  },
  "language_info": {
   "codemirror_mode": {
    "name": "ipython",
    "version": 3
   },
   "file_extension": ".py",
   "mimetype": "text/x-python",
   "name": "python",
   "nbconvert_exporter": "python",
   "pygments_lexer": "ipython3",
   "version": "3.12.7"
  }
 },
 "nbformat": 4,
 "nbformat_minor": 5
}
