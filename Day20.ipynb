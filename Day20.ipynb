{
 "cells": [
  {
   "cell_type": "code",
   "execution_count": 1,
   "id": "46530a7a-4b25-4572-9520-27e6b64f8d80",
   "metadata": {},
   "outputs": [
    {
     "data": {
      "text/plain": [
       "(140, 140)"
      ]
     },
     "execution_count": 1,
     "metadata": {},
     "output_type": "execute_result"
    }
   ],
   "source": [
    "grid, width, height = set(), 0, 0\n",
    "with open(\"Day20.txt\") as file:\n",
    "    for y, line in enumerate(file):\n",
    "        for x, char in enumerate(line.strip()):\n",
    "            width, height = max(width, x), max(height, y)\n",
    "            if char == \"#\":\n",
    "                continue\n",
    "            grid.add((x, y))\n",
    "            if char == \"S\":\n",
    "                start = x, y\n",
    "            elif char == \"E\":\n",
    "                end = x, y\n",
    "(width, height)"
   ]
  },
  {
   "cell_type": "code",
   "execution_count": 2,
   "id": "a93c7e66-68d8-4df4-8cca-b2ee7a020680",
   "metadata": {},
   "outputs": [
    {
     "name": "stdout",
     "output_type": "stream",
     "text": [
      "CPU times: user 88.2 ms, sys: 6.13 ms, total: 94.4 ms\n",
      "Wall time: 93.8 ms\n"
     ]
    }
   ],
   "source": [
    "%%time\n",
    "import networkx as nx\n",
    "\n",
    "G = nx.Graph()\n",
    "G.add_nodes_from(grid)\n",
    "for x, y in grid:\n",
    "    for dx, dy in ((+1, 0), (0, +1)):\n",
    "        px, py = x + dx, y + dy\n",
    "        if (px, py) in grid:\n",
    "            G.add_edge((x, y), (px, py))\n",
    "\n",
    "lengths = dict(nx.shortest_path_length(G, target=end))"
   ]
  },
  {
   "cell_type": "code",
   "execution_count": 3,
   "id": "08592afd-a5b6-4b82-a978-4d2b8f3afde9",
   "metadata": {},
   "outputs": [],
   "source": [
    "def reachables(ox, oy, dist=2):\n",
    "    cells = set()\n",
    "    for dx in range(-dist, dist+1):\n",
    "        ydist = dist - abs(dx)\n",
    "        for dy in range(-ydist, ydist+1):\n",
    "            if dx == dy == 0:\n",
    "                continue\n",
    "            px, py = ox + dx, oy + dy\n",
    "            if (0 < px < width) and (0 < py < height) and (px, py) in grid:\n",
    "                cells.add((px, py))\n",
    "    return cells\n",
    "\n",
    "def solve(size, goal=100):\n",
    "    result = 0\n",
    "    for ox, oy in grid:\n",
    "        for px, py in reachables(ox, oy, size):\n",
    "            cost = lengths[ox, oy] - (lengths[px, py] + abs(ox - px) + abs(oy - py))\n",
    "            result += cost >= goal\n",
    "    return result"
   ]
  },
  {
   "cell_type": "code",
   "execution_count": 4,
   "id": "abb7ad79-eb19-40c3-8e90-3e1c6ea114c9",
   "metadata": {},
   "outputs": [
    {
     "name": "stdout",
     "output_type": "stream",
     "text": [
      "CPU times: user 30.1 ms, sys: 975 μs, total: 31.1 ms\n",
      "Wall time: 30.8 ms\n"
     ]
    },
    {
     "data": {
      "text/plain": [
       "1389"
      ]
     },
     "execution_count": 4,
     "metadata": {},
     "output_type": "execute_result"
    }
   ],
   "source": [
    "%%time\n",
    "solve(2)"
   ]
  },
  {
   "cell_type": "code",
   "execution_count": 5,
   "id": "17ae7248-e1f9-43c6-b3bf-4d72d195ef4a",
   "metadata": {},
   "outputs": [
    {
     "name": "stdout",
     "output_type": "stream",
     "text": [
      "CPU times: user 1.75 s, sys: 1.29 ms, total: 1.75 s\n",
      "Wall time: 1.75 s\n"
     ]
    },
    {
     "data": {
      "text/plain": [
       "1005068"
      ]
     },
     "execution_count": 5,
     "metadata": {},
     "output_type": "execute_result"
    }
   ],
   "source": [
    "%%time\n",
    "solve(20)"
   ]
  }
 ],
 "metadata": {
  "kernelspec": {
   "display_name": "Python 3 (ipykernel)",
   "language": "python",
   "name": "python3"
  },
  "language_info": {
   "codemirror_mode": {
    "name": "ipython",
    "version": 3
   },
   "file_extension": ".py",
   "mimetype": "text/x-python",
   "name": "python",
   "nbconvert_exporter": "python",
   "pygments_lexer": "ipython3",
   "version": "3.12.7"
  }
 },
 "nbformat": 4,
 "nbformat_minor": 5
}
