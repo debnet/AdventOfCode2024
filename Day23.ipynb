{
 "cells": [
  {
   "cell_type": "code",
   "execution_count": 1,
   "id": "5ae8c5e8-e7e2-4c81-8121-d0a67343dd86",
   "metadata": {},
   "outputs": [],
   "source": [
    "import networkx as nx\n",
    "\n",
    "G = nx.Graph()\n",
    "with open(\"Day23.txt\") as file:\n",
    "    for line in file.read().splitlines():\n",
    "        G.add_edge(*line.split(\"-\"))"
   ]
  },
  {
   "cell_type": "code",
   "execution_count": 2,
   "id": "57c5cc29-7cea-433d-9f34-f7e3148a3615",
   "metadata": {},
   "outputs": [
    {
     "name": "stdout",
     "output_type": "stream",
     "text": [
      "CPU times: user 497 ms, sys: 8.12 ms, total: 505 ms\n",
      "Wall time: 505 ms\n"
     ]
    },
    {
     "data": {
      "text/plain": [
       "1149"
      ]
     },
     "execution_count": 2,
     "metadata": {},
     "output_type": "execute_result"
    }
   ],
   "source": [
    "%%time\n",
    "cliques = nx.enumerate_all_cliques(G)\n",
    "sum(1 for clique in cliques if len(clique) == 3 and any(node.startswith(\"t\") for node in clique))"
   ]
  },
  {
   "cell_type": "code",
   "execution_count": 3,
   "id": "fd7fb2a3-c4e4-4622-8492-ee1f4fc45639",
   "metadata": {},
   "outputs": [
    {
     "name": "stdout",
     "output_type": "stream",
     "text": [
      "CPU times: user 5.98 ms, sys: 0 ns, total: 5.98 ms\n",
      "Wall time: 6.09 ms\n"
     ]
    },
    {
     "data": {
      "text/plain": [
       "'as,co,do,kh,km,mc,np,nt,un,uq,wc,wz,yo'"
      ]
     },
     "execution_count": 3,
     "metadata": {},
     "output_type": "execute_result"
    }
   ],
   "source": [
    "%%time\n",
    "\",\".join(sorted(max(nx.algorithms.clique.find_cliques(G), key=len)))"
   ]
  }
 ],
 "metadata": {
  "kernelspec": {
   "display_name": "Python 3 (ipykernel)",
   "language": "python",
   "name": "python3"
  },
  "language_info": {
   "codemirror_mode": {
    "name": "ipython",
    "version": 3
   },
   "file_extension": ".py",
   "mimetype": "text/x-python",
   "name": "python",
   "nbconvert_exporter": "python",
   "pygments_lexer": "ipython3",
   "version": "3.12.7"
  }
 },
 "nbformat": 4,
 "nbformat_minor": 5
}
