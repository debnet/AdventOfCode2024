{
 "cells": [
  {
   "cell_type": "code",
   "execution_count": 1,
   "id": "5cb40cf2-724b-4028-8cad-8335069f85d7",
   "metadata": {},
   "outputs": [],
   "source": [
    "with open(\"Day24.txt\") as file:\n",
    "    swires, sgates = file.read().split(\"\\n\\n\")    "
   ]
  },
  {
   "cell_type": "code",
   "execution_count": 2,
   "id": "74edecf5-eabc-4cfe-a38e-e2eaaa282f40",
   "metadata": {},
   "outputs": [],
   "source": [
    "from dataclasses import dataclass\n",
    "\n",
    "@dataclass\n",
    "class Gate:\n",
    "    in1: str\n",
    "    in2: str\n",
    "    out: str\n",
    "    op: str\n",
    "\n",
    "    def __post_init__(self):\n",
    "        # Commutative boolean law\n",
    "        self.in1, self.in2 = sorted((self.in1, self.in2))\n",
    "    \n",
    "    def run(self, wires):\n",
    "        if (out := wires.get(self.out)) is not None:\n",
    "            return out\n",
    "        in1, in2 = wires.get(self.in1), wires.get(self.in2)\n",
    "        if in1 is None or in2 is None:\n",
    "            return\n",
    "        match self.op:\n",
    "            case \"AND\":\n",
    "                out = in1 & in2\n",
    "            case \"OR\":\n",
    "                out = in1 | in2\n",
    "            case \"XOR\":\n",
    "                out = in1 ^ in2\n",
    "        wires[self.out] = out\n",
    "        return out"
   ]
  },
  {
   "cell_type": "code",
   "execution_count": 3,
   "id": "ba3b493c-6a92-40df-9d23-5f41216892a0",
   "metadata": {},
   "outputs": [],
   "source": [
    "import re\n",
    "\n",
    "wires = {}\n",
    "for line in swires.splitlines():\n",
    "    name, value = line.split(\": \")\n",
    "    wires[name] = int(value)\n",
    "\n",
    "gates = {}\n",
    "regex = re.compile(r\"(?P<in1>\\w+) (?P<op>\\w+) (?P<in2>\\w+) -> (?P<out>\\w+)\")\n",
    "for line in sgates.splitlines():\n",
    "    if match := regex.match(line):\n",
    "        gates[match.group(\"out\")] = Gate(**match.groupdict())"
   ]
  },
  {
   "cell_type": "code",
   "execution_count": 4,
   "id": "bd813d71-c1bd-4561-bdb0-4205324ef186",
   "metadata": {},
   "outputs": [],
   "source": [
    "from queue import deque\n",
    "\n",
    "def run(wires, gates):\n",
    "    wires = wires.copy()\n",
    "    queue = deque(gates.values())\n",
    "    while queue:\n",
    "        gate = queue.popleft()\n",
    "        if gate.run(wires) is None:\n",
    "            queue.append(gate)\n",
    "    result = 0\n",
    "    for wire, value in sorted(wires.items(), reverse=True):\n",
    "        if not wire.startswith(\"z\"):\n",
    "            continue\n",
    "        result = (result << 1) | value\n",
    "    return result"
   ]
  },
  {
   "cell_type": "code",
   "execution_count": 5,
   "id": "2812f7be-69a4-4d15-ac35-a39c121f4ba4",
   "metadata": {},
   "outputs": [
    {
     "name": "stdout",
     "output_type": "stream",
     "text": [
      "CPU times: user 389 μs, sys: 38 μs, total: 427 μs\n",
      "Wall time: 443 μs\n"
     ]
    },
    {
     "data": {
      "text/plain": [
       "57344080719736"
      ]
     },
     "execution_count": 5,
     "metadata": {},
     "output_type": "execute_result"
    }
   ],
   "source": [
    "%%time\n",
    "run(wires, gates)"
   ]
  },
  {
   "cell_type": "code",
   "execution_count": 6,
   "id": "f004c1d1-04cb-4fba-9a76-c27bbc4ba1ed",
   "metadata": {},
   "outputs": [],
   "source": [
    "def solve(gates):\n",
    "    \"\"\"\n",
    "    Full-adder circuit:\n",
    "        Z[n] = ( X[n] XOR Y[n] ) XOR C[n-1]\n",
    "        C[n] = ( X[n] AND Y[n] ) OR ( ( X[n] XOR Y[n] ) AND C[n-1] )\n",
    "    \"\"\"\n",
    "    defects = set()\n",
    "    for i in range(1, 45):\n",
    "        x, y, z = f\"x{i:02}\", f\"y{i:02}\", f\"z{i:02}\"\n",
    "        zgate = gates[z]\n",
    "        # Z gates should be XOR only\n",
    "        if zgate.op != \"XOR\":\n",
    "            defects.add(z)\n",
    "            continue\n",
    "        lft, rgt = gates[zgate.in1], gates[zgate.in2]\n",
    "        # Rearrange Z input's gates to have XOR on left and OR on right\n",
    "        if lft.op == \"OR\" or rgt.op == \"XOR\":\n",
    "            lft, rgt = rgt, lft\n",
    "        # Left Z input gate should be XOR: ( X[n] XOR Y[n] )\n",
    "        if lft.op != \"XOR\":\n",
    "            defects.add(lft.out)\n",
    "        else:\n",
    "            # XOR gates for Z inputs would only have X/Y inputs\n",
    "            # X/Y input gates must follow Z increment\n",
    "            if lft.in1 != x:\n",
    "                defects.add(lft.in1)\n",
    "            if lft.in2 != y:\n",
    "                defects.add(lft.in2)\n",
    "        # Exception: C[1] is just X[1] AND Y[1]\n",
    "        if rgt.op == \"AND\" and i == 1:\n",
    "            continue\n",
    "        # Right Z input gate should be OR\n",
    "        elif rgt.op != \"OR\":\n",
    "            defects.add(rgt.out)\n",
    "        else:\n",
    "            # If OR gate, ensure both inputs come from AND gates\n",
    "            g1, g2 = gates[rgt.in1], gates[rgt.in2]\n",
    "            if g1.op != \"AND\":\n",
    "                defects.add(rgt.in1)\n",
    "            if g2.op != \"AND\":\n",
    "                defects.add(rgt.in2)\n",
    "    return \",\".join(sorted(defects))"
   ]
  },
  {
   "cell_type": "code",
   "execution_count": 7,
   "id": "14b8da93-6d35-4ae5-a2df-af02fdf9b7d0",
   "metadata": {},
   "outputs": [
    {
     "name": "stdout",
     "output_type": "stream",
     "text": [
      "CPU times: user 42 μs, sys: 4 μs, total: 46 μs\n",
      "Wall time: 47.4 μs\n"
     ]
    },
    {
     "data": {
      "text/plain": [
       "'cgq,fnr,kqk,nbc,svm,z15,z23,z39'"
      ]
     },
     "execution_count": 7,
     "metadata": {},
     "output_type": "execute_result"
    }
   ],
   "source": [
    "%%time\n",
    "solve(gates)"
   ]
  }
 ],
 "metadata": {
  "kernelspec": {
   "display_name": "Python 3 (ipykernel)",
   "language": "python",
   "name": "python3"
  },
  "language_info": {
   "codemirror_mode": {
    "name": "ipython",
    "version": 3
   },
   "file_extension": ".py",
   "mimetype": "text/x-python",
   "name": "python",
   "nbconvert_exporter": "python",
   "pygments_lexer": "ipython3",
   "version": "3.12.7"
  }
 },
 "nbformat": 4,
 "nbformat_minor": 5
}
