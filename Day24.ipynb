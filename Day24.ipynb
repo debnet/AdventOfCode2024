{
 "cells": [
  {
   "cell_type": "code",
   "execution_count": 1,
   "id": "5cb40cf2-724b-4028-8cad-8335069f85d7",
   "metadata": {},
   "outputs": [],
   "source": [
    "with open(\"Day24.txt\") as file:\n",
    "    swires, sgates = file.read().split(\"\\n\\n\")    "
   ]
  },
  {
   "cell_type": "code",
   "execution_count": 2,
   "id": "74edecf5-eabc-4cfe-a38e-e2eaaa282f40",
   "metadata": {},
   "outputs": [],
   "source": [
    "from dataclasses import dataclass\n",
    "\n",
    "@dataclass\n",
    "class Gate:\n",
    "    in1: str\n",
    "    in2: str\n",
    "    out: str\n",
    "    op: str\n",
    "\n",
    "    def __post_init__(self):\n",
    "        # Commutative boolean law\n",
    "        self.in1, self.in2 = sorted((self.in1, self.in2))\n",
    "    \n",
    "    def run(self, wires):\n",
    "        if (out := wires.get(self.out)) is not None:\n",
    "            return out\n",
    "        in1, in2 = wires.get(self.in1), wires.get(self.in2)\n",
    "        if in1 is None or in2 is None:\n",
    "            return\n",
    "        match self.op:\n",
    "            case \"AND\":\n",
    "                out = in1 & in2\n",
    "            case \"OR\":\n",
    "                out = in1 | in2\n",
    "            case \"XOR\":\n",
    "                out = in1 ^ in2\n",
    "        wires[self.out] = out\n",
    "        return out"
   ]
  },
  {
   "cell_type": "code",
   "execution_count": 3,
   "id": "ba3b493c-6a92-40df-9d23-5f41216892a0",
   "metadata": {},
   "outputs": [],
   "source": [
    "import re\n",
    "\n",
    "wires = {}\n",
    "for line in swires.splitlines():\n",
    "    name, value = line.split(\": \")\n",
    "    wires[name] = int(value)\n",
    "\n",
    "gates = {}\n",
    "regex = re.compile(r\"(?P<in1>\\w+) (?P<op>\\w+) (?P<in2>\\w+) -> (?P<out>\\w+)\")\n",
    "for line in sgates.splitlines():\n",
    "    if match := regex.match(line):\n",
    "        gates[match.group(\"out\")] = Gate(**match.groupdict())"
   ]
  },
  {
   "cell_type": "code",
   "execution_count": 4,
   "id": "bd813d71-c1bd-4561-bdb0-4205324ef186",
   "metadata": {},
   "outputs": [],
   "source": [
    "from queue import deque\n",
    "\n",
    "def run(wires, gates):\n",
    "    wires = wires.copy()\n",
    "    queue = deque(gates.values())\n",
    "    while queue:\n",
    "        gate = queue.popleft()\n",
    "        if gate.run(wires) is None:\n",
    "            queue.append(gate)\n",
    "    result = 0\n",
    "    for wire, value in sorted(wires.items(), reverse=True):\n",
    "        if not wire.startswith(\"z\"):\n",
    "            continue\n",
    "        result = (result << 1) | value\n",
    "    return result"
   ]
  },
  {
   "cell_type": "code",
   "execution_count": 5,
   "id": "2812f7be-69a4-4d15-ac35-a39c121f4ba4",
   "metadata": {},
   "outputs": [
    {
     "name": "stdout",
     "output_type": "stream",
     "text": [
      "CPU times: user 420 μs, sys: 0 ns, total: 420 μs\n",
      "Wall time: 424 μs\n"
     ]
    },
    {
     "data": {
      "text/plain": [
       "53755311654662"
      ]
     },
     "execution_count": 5,
     "metadata": {},
     "output_type": "execute_result"
    }
   ],
   "source": [
    "%%time\n",
    "run(wires, gates)"
   ]
  },
  {
   "cell_type": "code",
   "execution_count": 6,
   "id": "fabf21bc-f953-482e-ad46-73de743a95bd",
   "metadata": {},
   "outputs": [],
   "source": [
    "def solve(gates):\n",
    "    defects = set()\n",
    "    for gate in gates.values():\n",
    "        if gate.op != \"XOR\" and gate.out[0] == \"z\" and gate.out != \"z45\":\n",
    "            # Every gate for Z output should be XOR except for the last one\n",
    "            defects.add(gate.out)\n",
    "        if gate.op == \"XOR\":\n",
    "            if all(val[0] not in \"xyz\" for val in (gate.in1, gate.in2, gate.out)):\n",
    "                # Every XOR gate should deal at least with x, y or z inputs/outputs\n",
    "                defects.add(gate.out)\n",
    "            for prev in gates.values():\n",
    "                if prev.op == \"OR\" and gate.out in (prev.in1, prev.in2):\n",
    "                    # Every XOR gate input should come from at least one OR gate\n",
    "                    defects.add(gate.out)\n",
    "        if gate.op == \"AND\" and gate.in1 != \"x00\":  # Start gate is an exception\n",
    "            for prev in gates.values():\n",
    "                if prev.op != \"OR\" and gate.out in (prev.in1, prev.in2):\n",
    "                    # Every AND gate input should not come from any OR gate\n",
    "                    defects.add(gate.out)\n",
    "    return \",\".join(sorted(defects))"
   ]
  },
  {
   "cell_type": "code",
   "execution_count": 7,
   "id": "14b8da93-6d35-4ae5-a2df-af02fdf9b7d0",
   "metadata": {},
   "outputs": [
    {
     "name": "stdout",
     "output_type": "stream",
     "text": [
      "CPU times: user 1.66 ms, sys: 0 ns, total: 1.66 ms\n",
      "Wall time: 1.66 ms\n"
     ]
    },
    {
     "data": {
      "text/plain": [
       "'dkr,ggk,hhh,htp,rhv,z05,z15,z20'"
      ]
     },
     "execution_count": 7,
     "metadata": {},
     "output_type": "execute_result"
    }
   ],
   "source": [
    "%%time\n",
    "solve(gates)"
   ]
  }
 ],
 "metadata": {
  "kernelspec": {
   "display_name": "Python 3 (ipykernel)",
   "language": "python",
   "name": "python3"
  },
  "language_info": {
   "codemirror_mode": {
    "name": "ipython",
    "version": 3
   },
   "file_extension": ".py",
   "mimetype": "text/x-python",
   "name": "python",
   "nbconvert_exporter": "python",
   "pygments_lexer": "ipython3",
   "version": "3.12.7"
  }
 },
 "nbformat": 4,
 "nbformat_minor": 5
}
