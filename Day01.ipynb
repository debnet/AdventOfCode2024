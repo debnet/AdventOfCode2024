{
 "cells": [
  {
   "cell_type": "code",
   "execution_count": 1,
   "id": "14f3d920-721e-451b-bc02-171b2ce9b3cd",
   "metadata": {},
   "outputs": [],
   "source": [
    "l1, l2 = [], []\n",
    "with open(\"Day01.txt\") as file:\n",
    "    for line in file:\n",
    "        a, b = map(int, line.split())\n",
    "        l1.append(a)\n",
    "        l2.append(b)"
   ]
  },
  {
   "cell_type": "code",
   "execution_count": 2,
   "id": "0fac6bcc-f6ce-471b-8fd2-62f2a6e7f226",
   "metadata": {},
   "outputs": [
    {
     "data": {
      "text/plain": [
       "1222801"
      ]
     },
     "execution_count": 2,
     "metadata": {},
     "output_type": "execute_result"
    }
   ],
   "source": [
    "sum(abs(a - b) for a, b in zip(sorted(l1), sorted(l2)))"
   ]
  },
  {
   "cell_type": "code",
   "execution_count": 3,
   "id": "2bfd1b72-494d-4cc0-a7c4-d53d6ad80f5a",
   "metadata": {},
   "outputs": [
    {
     "data": {
      "text/plain": [
       "22545250"
      ]
     },
     "execution_count": 3,
     "metadata": {},
     "output_type": "execute_result"
    }
   ],
   "source": [
    "sum(a * l2.count(a) for a in l1)"
   ]
  }
 ],
 "metadata": {
  "kernelspec": {
   "display_name": "Python 3 (ipykernel)",
   "language": "python",
   "name": "python3"
  },
  "language_info": {
   "codemirror_mode": {
    "name": "ipython",
    "version": 3
   },
   "file_extension": ".py",
   "mimetype": "text/x-python",
   "name": "python",
   "nbconvert_exporter": "python",
   "pygments_lexer": "ipython3",
   "version": "3.12.7"
  }
 },
 "nbformat": 4,
 "nbformat_minor": 5
}
