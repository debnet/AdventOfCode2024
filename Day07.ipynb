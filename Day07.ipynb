{
 "cells": [
  {
   "cell_type": "code",
   "execution_count": 1,
   "id": "1d8e49ec-086b-439b-affd-1a17457c35a4",
   "metadata": {},
   "outputs": [],
   "source": [
    "data = []\n",
    "with open(\"Day07.txt\") as file:\n",
    "    for line in file:\n",
    "        test, values = line.split(\": \")\n",
    "        data.append((int(test), list(map(int, values.split()))))"
   ]
  },
  {
   "cell_type": "code",
   "execution_count": 2,
   "id": "b853815b-d1e2-48d1-8d24-55069f733fd3",
   "metadata": {},
   "outputs": [],
   "source": [
    "from itertools import product\n",
    "\n",
    "def solve(test, values, allowed_operators):\n",
    "    for operators in product(allowed_operators, repeat=len(values) - 1):\n",
    "        result = values[0]\n",
    "        for value, operator in zip(values[1:], operators):\n",
    "            if (result := operator(result, value)) > test:\n",
    "                break\n",
    "        if result == test:\n",
    "            return test\n",
    "    return 0"
   ]
  },
  {
   "cell_type": "code",
   "execution_count": 3,
   "id": "db98c031-f51d-40ea-a70f-e0de3ccbd13e",
   "metadata": {},
   "outputs": [
    {
     "data": {
      "text/plain": [
       "4122618559853"
      ]
     },
     "execution_count": 3,
     "metadata": {},
     "output_type": "execute_result"
    }
   ],
   "source": [
    "from operator import add, mul\n",
    "sum(solve(test, values, (add, mul)) for test, values in data)"
   ]
  },
  {
   "cell_type": "code",
   "execution_count": 4,
   "id": "e17415d7-172e-4d96-b296-fdfee2416e9c",
   "metadata": {},
   "outputs": [
    {
     "name": "stdout",
     "output_type": "stream",
     "text": [
      "CPU times: user 7.11 s, sys: 1.53 ms, total: 7.12 s\n",
      "Wall time: 7.13 s\n"
     ]
    },
    {
     "data": {
      "text/plain": [
       "227615740238334"
      ]
     },
     "execution_count": 4,
     "metadata": {},
     "output_type": "execute_result"
    }
   ],
   "source": [
    "%%time\n",
    "def concat(a, b):\n",
    "    digits = 1\n",
    "    while digits <= b:\n",
    "        digits *= 10\n",
    "    return a * digits + b\n",
    "\n",
    "sum(solve(test, values, (add, mul, concat)) for test, values in data)"
   ]
  }
 ],
 "metadata": {
  "kernelspec": {
   "display_name": "Python 3 (ipykernel)",
   "language": "python",
   "name": "python3"
  },
  "language_info": {
   "codemirror_mode": {
    "name": "ipython",
    "version": 3
   },
   "file_extension": ".py",
   "mimetype": "text/x-python",
   "name": "python",
   "nbconvert_exporter": "python",
   "pygments_lexer": "ipython3",
   "version": "3.12.7"
  }
 },
 "nbformat": 4,
 "nbformat_minor": 5
}
