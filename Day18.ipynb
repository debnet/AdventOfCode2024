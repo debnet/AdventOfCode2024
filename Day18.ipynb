{
 "cells": [
  {
   "cell_type": "code",
   "execution_count": 1,
   "id": "242a6327-fcbc-4ee9-8868-22e5aa70d853",
   "metadata": {},
   "outputs": [],
   "source": [
    "import re\n",
    "from itertools import batched\n",
    "\n",
    "with open(\"Day18.txt\") as file:\n",
    "    holes = list(batched(map(int, re.findall(r\"\\d+\", file.read())), 2))"
   ]
  },
  {
   "cell_type": "code",
   "execution_count": 2,
   "id": "c69de447-d577-41ad-b8c5-b1249eee0ef4",
   "metadata": {},
   "outputs": [],
   "source": [
    "import networkx as nx\n",
    "\n",
    "G = nx.Graph()\n",
    "G.add_nodes_from(\n",
    "    (x, y) \n",
    "    for y in range(71) \n",
    "    for x in range(71) \n",
    "    if (x, y) not in holes[:1024])\n",
    "G.add_edges_from(\n",
    "    ((x, y), (x + dx, y + dy)) \n",
    "    for x, y in G.nodes \n",
    "    for dx, dy in ((0, +1), (0, -1), (+1, 0), (-1, 0)) \n",
    "    if (x + dx, y + dy) in G.nodes)"
   ]
  },
  {
   "cell_type": "code",
   "execution_count": 3,
   "id": "3883c4bb-7815-4cd3-b3c8-c470de11d7d1",
   "metadata": {},
   "outputs": [
    {
     "name": "stdout",
     "output_type": "stream",
     "text": [
      "CPU times: user 1.47 ms, sys: 0 ns, total: 1.47 ms\n",
      "Wall time: 1.48 ms\n"
     ]
    },
    {
     "data": {
      "text/plain": [
       "314"
      ]
     },
     "execution_count": 3,
     "metadata": {},
     "output_type": "execute_result"
    }
   ],
   "source": [
    "%%time\n",
    "nx.shortest_path_length(G, (0, 0), (70, 70))"
   ]
  },
  {
   "cell_type": "code",
   "execution_count": 4,
   "id": "daaf4e17-b2ca-41b0-b9e6-ee9e4426e301",
   "metadata": {},
   "outputs": [
    {
     "name": "stdout",
     "output_type": "stream",
     "text": [
      "CPU times: user 1.41 s, sys: 3.31 ms, total: 1.41 s\n",
      "Wall time: 1.42 s\n"
     ]
    },
    {
     "data": {
      "text/plain": [
       "(15, 20)"
      ]
     },
     "execution_count": 4,
     "metadata": {},
     "output_type": "execute_result"
    }
   ],
   "source": [
    "%%time\n",
    "for index, hole in enumerate(holes[1024:], start=1024):\n",
    "    G.remove_node(hole)\n",
    "    if not nx.has_path(G, (0, 0), (70, 70)):\n",
    "        break\n",
    "hole"
   ]
  }
 ],
 "metadata": {
  "kernelspec": {
   "display_name": "Python 3 (ipykernel)",
   "language": "python",
   "name": "python3"
  },
  "language_info": {
   "codemirror_mode": {
    "name": "ipython",
    "version": 3
   },
   "file_extension": ".py",
   "mimetype": "text/x-python",
   "name": "python",
   "nbconvert_exporter": "python",
   "pygments_lexer": "ipython3",
   "version": "3.12.7"
  }
 },
 "nbformat": 4,
 "nbformat_minor": 5
}
