{
 "cells": [
  {
   "cell_type": "code",
   "execution_count": 1,
   "id": "e3b43630-a542-4436-83fe-ff22a26c0f21",
   "metadata": {},
   "outputs": [],
   "source": [
    "grid, start, end = set(), None, None\n",
    "with open(\"Day16.txt\") as file:\n",
    "    for y, line in enumerate(file):\n",
    "        for x, char in enumerate(line.strip()):\n",
    "            if char == \"#\":\n",
    "                continue\n",
    "            if char == \"S\":\n",
    "                start = ((x, y), (+1, 0))\n",
    "                continue\n",
    "            if char == \"E\":\n",
    "                end = (x, y)\n",
    "            grid.add((x, y))"
   ]
  },
  {
   "cell_type": "code",
   "execution_count": 2,
   "id": "86c56b11-b1a3-4d57-b8c2-63d20613d8fd",
   "metadata": {},
   "outputs": [
    {
     "name": "stdout",
     "output_type": "stream",
     "text": [
      "CPU times: user 302 ms, sys: 18.8 ms, total: 320 ms\n",
      "Wall time: 320 ms\n"
     ]
    }
   ],
   "source": [
    "%%time\n",
    "import networkx as nx\n",
    "\n",
    "DIRECTIONS = {\n",
    "    (-1, 0): ((0, -1), (0, +1)),\n",
    "    (+1, 0): ((0, -1), (0, +1)),\n",
    "    (0, -1): ((-1, 0), (+1, 0)),\n",
    "    (0, +1): ((-1, 0), (+1, 0)),\n",
    "}\n",
    "\n",
    "G = nx.DiGraph()\n",
    "G.add_node(start)\n",
    "for node in grid:\n",
    "    for direction in DIRECTIONS:\n",
    "        G.add_node((node, direction))\n",
    "for node in G.nodes:\n",
    "    (x, y), (dx, dy) = node\n",
    "    dest = ((x + dx, y + dy), (dx, dy))\n",
    "    if dest in G.nodes:\n",
    "        G.add_edge(node, dest, weight=1)\n",
    "    for rx, ry in DIRECTIONS[dx, dy]:\n",
    "        dest = ((x, y), (rx, ry))\n",
    "        if dest in G.nodes:\n",
    "            G.add_edge(node, dest, weight=1000)\n",
    "for dx, dy in DIRECTIONS:\n",
    "    G.add_edge((end, (dx, dy)), \"end\", weight=0)"
   ]
  },
  {
   "cell_type": "code",
   "execution_count": 3,
   "id": "555ff883-8898-4ce6-96df-872f5e65be95",
   "metadata": {},
   "outputs": [
    {
     "name": "stdout",
     "output_type": "stream",
     "text": [
      "CPU times: user 65.2 ms, sys: 1.04 ms, total: 66.2 ms\n",
      "Wall time: 66.3 ms\n"
     ]
    },
    {
     "data": {
      "text/plain": [
       "127520"
      ]
     },
     "execution_count": 3,
     "metadata": {},
     "output_type": "execute_result"
    }
   ],
   "source": [
    "%%time\n",
    "nx.shortest_path_length(G, start, \"end\", weight=\"weight\")"
   ]
  },
  {
   "cell_type": "code",
   "execution_count": 4,
   "id": "f749ecc6-0a5b-486e-ae79-41a1cbe2c6bf",
   "metadata": {},
   "outputs": [
    {
     "name": "stdout",
     "output_type": "stream",
     "text": [
      "CPU times: user 81.7 ms, sys: 2.01 ms, total: 83.7 ms\n",
      "Wall time: 83.5 ms\n"
     ]
    },
    {
     "data": {
      "text/plain": [
       "565"
      ]
     },
     "execution_count": 4,
     "metadata": {},
     "output_type": "execute_result"
    }
   ],
   "source": [
    "%%time\n",
    "len({node for path in nx.all_shortest_paths(G, start, \"end\", weight=\"weight\") for node, _ in path[:-1]})"
   ]
  }
 ],
 "metadata": {
  "kernelspec": {
   "display_name": "Python 3 (ipykernel)",
   "language": "python",
   "name": "python3"
  },
  "language_info": {
   "codemirror_mode": {
    "name": "ipython",
    "version": 3
   },
   "file_extension": ".py",
   "mimetype": "text/x-python",
   "name": "python",
   "nbconvert_exporter": "python",
   "pygments_lexer": "ipython3",
   "version": "3.12.7"
  }
 },
 "nbformat": 4,
 "nbformat_minor": 5
}
