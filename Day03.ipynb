{
 "cells": [
  {
   "cell_type": "code",
   "execution_count": 1,
   "id": "a3903f9a-180a-41c7-b610-990faab64dc7",
   "metadata": {},
   "outputs": [],
   "source": [
    "with open(\"Day03.txt\") as file:\n",
    "    data = file.read()"
   ]
  },
  {
   "cell_type": "code",
   "execution_count": 2,
   "id": "f88f1135-d58e-48d6-ae2d-8e54a918b618",
   "metadata": {},
   "outputs": [],
   "source": [
    "import re\n",
    "from operator import mul\n",
    "\n",
    "def solve(data, regex):\n",
    "    value, state = 0, True\n",
    "    for func in regex.findall(data):\n",
    "        match func:\n",
    "            case \"do()\":\n",
    "                state = True\n",
    "            case \"don't()\":\n",
    "                state = False\n",
    "            case _:\n",
    "                value += eval(func) if state else 0\n",
    "    return value"
   ]
  },
  {
   "cell_type": "code",
   "execution_count": 3,
   "id": "bf05ee2d-3fdb-4b19-9182-1e4c26fdc252",
   "metadata": {},
   "outputs": [
    {
     "data": {
      "text/plain": [
       "182619815"
      ]
     },
     "execution_count": 3,
     "metadata": {},
     "output_type": "execute_result"
    }
   ],
   "source": [
    "regex = re.compile(r\"mul\\(\\d+,\\d+\\)\")\n",
    "solve(data, regex)"
   ]
  },
  {
   "cell_type": "code",
   "execution_count": 4,
   "id": "4ec0d937-5a5c-4905-ac4c-4d7ae0d59193",
   "metadata": {},
   "outputs": [
    {
     "data": {
      "text/plain": [
       "80747545"
      ]
     },
     "execution_count": 4,
     "metadata": {},
     "output_type": "execute_result"
    }
   ],
   "source": [
    "regex = re.compile(r\"(?:mul\\(\\d+,\\d+\\))|(?:do(?:n't)?\\(\\))\")\n",
    "solve(data, regex)"
   ]
  }
 ],
 "metadata": {
  "kernelspec": {
   "display_name": "Python 3 (ipykernel)",
   "language": "python",
   "name": "python3"
  },
  "language_info": {
   "codemirror_mode": {
    "name": "ipython",
    "version": 3
   },
   "file_extension": ".py",
   "mimetype": "text/x-python",
   "name": "python",
   "nbconvert_exporter": "python",
   "pygments_lexer": "ipython3",
   "version": "3.12.7"
  }
 },
 "nbformat": 4,
 "nbformat_minor": 5
}
