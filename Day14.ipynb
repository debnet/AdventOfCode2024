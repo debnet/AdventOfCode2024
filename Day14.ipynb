{
 "cells": [
  {
   "cell_type": "code",
   "execution_count": 1,
   "id": "acdd5ccb-7937-437b-91ba-feb0278e0b25",
   "metadata": {},
   "outputs": [],
   "source": [
    "import re\n",
    "\n",
    "regex_robot = re.compile(r\"-?\\d+\")\n",
    "robots = []\n",
    "with open(\"Day14.txt\") as file:\n",
    "    for line in file:\n",
    "        robots.append(list(map(int, regex_robot.findall(line))))"
   ]
  },
  {
   "cell_type": "code",
   "execution_count": 2,
   "id": "0c2b8967-729a-46d9-853d-d00828d14656",
   "metadata": {},
   "outputs": [],
   "source": [
    "from collections import Counter\n",
    "from math import prod\n",
    "\n",
    "def move(robots, w=101, h=103):\n",
    "    for robot in robots:\n",
    "        x, y, vx, vy = robot\n",
    "        robot[:2] = ((x + vx) % w, (y + vy) % h)\n",
    "\n",
    "def safety_factor(robots, w=101, h=103):\n",
    "    mx, my = w // 2, h // 2\n",
    "    q = Counter()\n",
    "    for x, y, *_ in robots:\n",
    "        if x == mx or y == my:\n",
    "            continue\n",
    "        q[x < mx, y < my] += 1\n",
    "    return prod(q.values())"
   ]
  },
  {
   "cell_type": "code",
   "execution_count": 3,
   "id": "77029f5b-b851-4d9d-b9af-ab513e73b3c4",
   "metadata": {},
   "outputs": [
    {
     "name": "stdout",
     "output_type": "stream",
     "text": [
      "CPU times: user 5.32 ms, sys: 62 μs, total: 5.38 ms\n",
      "Wall time: 5.4 ms\n"
     ]
    },
    {
     "data": {
      "text/plain": [
       "211773366"
      ]
     },
     "execution_count": 3,
     "metadata": {},
     "output_type": "execute_result"
    }
   ],
   "source": [
    "%%time\n",
    "for i in range(100):\n",
    "    move(robots)\n",
    "safety_factor(robots)"
   ]
  },
  {
   "cell_type": "code",
   "execution_count": 4,
   "id": "b570a14b-de69-4386-a049-393e809c59b1",
   "metadata": {},
   "outputs": [
    {
     "name": "stdout",
     "output_type": "stream",
     "text": [
      "CPU times: user 1.68 s, sys: 553 μs, total: 1.68 s\n",
      "Wall time: 1.69 s\n"
     ]
    },
    {
     "data": {
      "text/plain": [
       "7344"
      ]
     },
     "execution_count": 4,
     "metadata": {},
     "output_type": "execute_result"
    }
   ],
   "source": [
    "%%time\n",
    "seconds = 100\n",
    "while safety_factor(robots) > 80_000_000:\n",
    "    move(robots)\n",
    "    seconds += 1\n",
    "seconds"
   ]
  }
 ],
 "metadata": {
  "kernelspec": {
   "display_name": "Python 3 (ipykernel)",
   "language": "python",
   "name": "python3"
  },
  "language_info": {
   "codemirror_mode": {
    "name": "ipython",
    "version": 3
   },
   "file_extension": ".py",
   "mimetype": "text/x-python",
   "name": "python",
   "nbconvert_exporter": "python",
   "pygments_lexer": "ipython3",
   "version": "3.12.7"
  }
 },
 "nbformat": 4,
 "nbformat_minor": 5
}
