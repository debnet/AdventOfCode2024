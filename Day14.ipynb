{
 "cells": [
  {
   "cell_type": "code",
   "execution_count": 1,
   "id": "acdd5ccb-7937-437b-91ba-feb0278e0b25",
   "metadata": {},
   "outputs": [],
   "source": [
    "import re\n",
    "\n",
    "regex_robot = re.compile(r\"-?\\d+\")\n",
    "robots = []\n",
    "with open(\"Day14.txt\") as file:\n",
    "    for line in file:\n",
    "        robots.append(list(map(int, regex_robot.findall(line))))"
   ]
  },
  {
   "cell_type": "code",
   "execution_count": 2,
   "id": "0c2b8967-729a-46d9-853d-d00828d14656",
   "metadata": {},
   "outputs": [],
   "source": [
    "from collections import Counter\n",
    "from math import prod\n",
    "\n",
    "def move(robots, w=101, h=103):\n",
    "    for robot in robots:\n",
    "        x, y, vx, vy = robot\n",
    "        robot[:2] = ((x + vx) % w, (y + vy) % h)\n",
    "\n",
    "def safety_factor(robots, w=101, h=103):\n",
    "    mx, my = w // 2, h // 2\n",
    "    q = Counter()\n",
    "    for x, y, *_ in robots:\n",
    "        if x == mx or y == my:\n",
    "            continue\n",
    "        q[x < mx, y < my] += 1\n",
    "    return prod(q.values())"
   ]
  },
  {
   "cell_type": "code",
   "execution_count": 3,
   "id": "77029f5b-b851-4d9d-b9af-ab513e73b3c4",
   "metadata": {},
   "outputs": [
    {
     "name": "stdout",
     "output_type": "stream",
     "text": [
      "CPU times: user 5.61 ms, sys: 0 ns, total: 5.61 ms\n",
      "Wall time: 5.6 ms\n"
     ]
    },
    {
     "data": {
      "text/plain": [
       "211773366"
      ]
     },
     "execution_count": 3,
     "metadata": {},
     "output_type": "execute_result"
    }
   ],
   "source": [
    "%%time\n",
    "for _ in range(100):\n",
    "    move(robots)\n",
    "safety_factor(robots)"
   ]
  },
  {
   "cell_type": "code",
   "execution_count": 4,
   "id": "61849721-7be1-4bf9-8723-4a257fcef3d7",
   "metadata": {},
   "outputs": [],
   "source": [
    "def find_region(robots, min_size=20):\n",
    "    todo = {(x, y) for x, y, *_ in robots}\n",
    "    while todo:\n",
    "        cell = todo.pop()\n",
    "        region = set()\n",
    "        ntodo = {cell}\n",
    "        while ntodo:\n",
    "            x, y = ncell = ntodo.pop()\n",
    "            region.add(ncell)\n",
    "            if len(region) >= min_size:\n",
    "                return True\n",
    "            for dx, dy in ((-1, 0), (+1, 0), (0, -1), (0, +1)):\n",
    "                nx, ny = x + dx, y + dy\n",
    "                if (nx, ny) not in region and (nx, ny) in todo:\n",
    "                    ntodo.add((nx, ny))\n",
    "        todo -= region\n",
    "    return False"
   ]
  },
  {
   "cell_type": "code",
   "execution_count": 5,
   "id": "b570a14b-de69-4386-a049-393e809c59b1",
   "metadata": {},
   "outputs": [
    {
     "name": "stdout",
     "output_type": "stream",
     "text": [
      "CPU times: user 3.14 s, sys: 0 ns, total: 3.14 s\n",
      "Wall time: 3.14 s\n"
     ]
    },
    {
     "data": {
      "text/plain": [
       "7344"
      ]
     },
     "execution_count": 5,
     "metadata": {},
     "output_type": "execute_result"
    }
   ],
   "source": [
    "%%time\n",
    "seconds = 100\n",
    "while not find_region(robots, min_size=20):\n",
    "    move(robots)\n",
    "    seconds += 1\n",
    "seconds"
   ]
  }
 ],
 "metadata": {
  "kernelspec": {
   "display_name": "Python 3 (ipykernel)",
   "language": "python",
   "name": "python3"
  },
  "language_info": {
   "codemirror_mode": {
    "name": "ipython",
    "version": 3
   },
   "file_extension": ".py",
   "mimetype": "text/x-python",
   "name": "python",
   "nbconvert_exporter": "python",
   "pygments_lexer": "ipython3",
   "version": "3.12.7"
  }
 },
 "nbformat": 4,
 "nbformat_minor": 5
}
