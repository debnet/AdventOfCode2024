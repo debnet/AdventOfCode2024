{
 "cells": [
  {
   "cell_type": "code",
   "execution_count": 1,
   "id": "9842f9d2-2c23-4067-b2bc-191b791af5d3",
   "metadata": {},
   "outputs": [],
   "source": [
    "from collections import defaultdict\n",
    "\n",
    "rules, books = defaultdict(list), []\n",
    "with open(\"Day05.txt\") as file:\n",
    "    for line in file:\n",
    "        if not (line := line.strip()):\n",
    "            break\n",
    "        page1, page2 = map(int, line.split(\"|\"))\n",
    "        rules[page1].append(page2)\n",
    "    for line in file:\n",
    "        books.append(list(map(int, line.split(\",\"))))"
   ]
  },
  {
   "cell_type": "code",
   "execution_count": 2,
   "id": "4eae5455-4818-476b-8c70-3017640a3099",
   "metadata": {},
   "outputs": [],
   "source": [
    "def check(book):\n",
    "    for index, page in enumerate(book):\n",
    "        for rule in rules.get(page, []):\n",
    "            if rule not in book:\n",
    "                continue\n",
    "            if index > book.index(rule):\n",
    "                return False\n",
    "    return True\n",
    "\n",
    "def score(book):\n",
    "    return book[len(book) // 2]"
   ]
  },
  {
   "cell_type": "code",
   "execution_count": 3,
   "id": "6330d0bf-9877-4587-bfa6-bc407c3889d1",
   "metadata": {},
   "outputs": [
    {
     "data": {
      "text/plain": [
       "7024"
      ]
     },
     "execution_count": 3,
     "metadata": {},
     "output_type": "execute_result"
    }
   ],
   "source": [
    "sum(score(book) for book in books if check(book))"
   ]
  },
  {
   "cell_type": "code",
   "execution_count": 4,
   "id": "1515ba7b-1aa5-4c7d-83f6-a9cfa37aa1bb",
   "metadata": {},
   "outputs": [],
   "source": [
    "from collections import Counter\n",
    "from itertools import combinations\n",
    "\n",
    "def reorder(book):\n",
    "    order = Counter()\n",
    "    for page1, page2 in combinations(book, 2):\n",
    "        if page1 in rules.get(page2, []):\n",
    "            order[page1] += 1\n",
    "            order[page2] -= 1\n",
    "        elif page2 in rules.get(page1, []):\n",
    "            order[page1] -= 1\n",
    "            order[page2] += 1\n",
    "    return sorted(book, key=order.get)"
   ]
  },
  {
   "cell_type": "code",
   "execution_count": 5,
   "id": "f6b3a47a-6ef0-4d1c-8bdc-301a8875bbee",
   "metadata": {},
   "outputs": [
    {
     "data": {
      "text/plain": [
       "4151"
      ]
     },
     "execution_count": 5,
     "metadata": {},
     "output_type": "execute_result"
    }
   ],
   "source": [
    "sum(score(reorder(book)) for book in books if not check(book))"
   ]
  }
 ],
 "metadata": {
  "kernelspec": {
   "display_name": "Python 3 (ipykernel)",
   "language": "python",
   "name": "python3"
  },
  "language_info": {
   "codemirror_mode": {
    "name": "ipython",
    "version": 3
   },
   "file_extension": ".py",
   "mimetype": "text/x-python",
   "name": "python",
   "nbconvert_exporter": "python",
   "pygments_lexer": "ipython3",
   "version": "3.12.7"
  }
 },
 "nbformat": 4,
 "nbformat_minor": 5
}
