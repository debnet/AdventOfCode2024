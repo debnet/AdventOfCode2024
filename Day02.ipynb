{
 "cells": [
  {
   "cell_type": "code",
   "execution_count": 1,
   "id": "3a0c6d72-4066-40ce-9915-8003e2daf0ae",
   "metadata": {},
   "outputs": [],
   "source": [
    "with open(\"Day02.txt\") as file:\n",
    "    data = [[int(num) for num in line.split()] for line in file]"
   ]
  },
  {
   "cell_type": "code",
   "execution_count": 2,
   "id": "24fbcfc8-a743-4395-a0ba-4a2e306db090",
   "metadata": {},
   "outputs": [],
   "source": [
    "from itertools import pairwise\n",
    "\n",
    "def is_safe(line):\n",
    "    prev = None\n",
    "    for a, b in pairwise(line):\n",
    "        level = a - b\n",
    "        if abs(level) < 1 or abs(level) > 3:\n",
    "            return False\n",
    "        if prev is None:\n",
    "            prev = level\n",
    "            continue\n",
    "        if prev * level < 0:\n",
    "            return False\n",
    "        prev = level\n",
    "    return True"
   ]
  },
  {
   "cell_type": "code",
   "execution_count": 3,
   "id": "6d5e9141-140b-4c43-87db-42268ac6f3c7",
   "metadata": {},
   "outputs": [
    {
     "data": {
      "text/plain": [
       "371"
      ]
     },
     "execution_count": 3,
     "metadata": {},
     "output_type": "execute_result"
    }
   ],
   "source": [
    "sum(is_safe(line) for line in data)"
   ]
  },
  {
   "cell_type": "code",
   "execution_count": 4,
   "id": "90002c8d-d251-47d4-aa29-a235c412f1f4",
   "metadata": {},
   "outputs": [
    {
     "data": {
      "text/plain": [
       "426"
      ]
     },
     "execution_count": 4,
     "metadata": {},
     "output_type": "execute_result"
    }
   ],
   "source": [
    "def dampener(line):\n",
    "    yield line\n",
    "    for index in range(len(line)):\n",
    "        yield [a for i, a in enumerate(line) if i != index]\n",
    "\n",
    "sum(any(is_safe(line) for line in dampener(line)) for line in data)"
   ]
  }
 ],
 "metadata": {
  "kernelspec": {
   "display_name": "Python 3 (ipykernel)",
   "language": "python",
   "name": "python3"
  },
  "language_info": {
   "codemirror_mode": {
    "name": "ipython",
    "version": 3
   },
   "file_extension": ".py",
   "mimetype": "text/x-python",
   "name": "python",
   "nbconvert_exporter": "python",
   "pygments_lexer": "ipython3",
   "version": "3.12.7"
  }
 },
 "nbformat": 4,
 "nbformat_minor": 5
}
