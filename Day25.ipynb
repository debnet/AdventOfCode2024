{
 "cells": [
  {
   "cell_type": "code",
   "execution_count": 1,
   "id": "994054af-c854-4c77-978f-98d1170635ce",
   "metadata": {},
   "outputs": [],
   "source": [
    "with open(\"Day25.txt\") as file:\n",
    "    data = file.read().replace(\".\", \"0\").replace(\"#\", \"1\").split(\"\\n\\n\")"
   ]
  },
  {
   "cell_type": "code",
   "execution_count": 2,
   "id": "544adb2a-caba-4c8f-a777-f90a44fc31f7",
   "metadata": {},
   "outputs": [
    {
     "data": {
      "text/plain": [
       "(250, 250)"
      ]
     },
     "execution_count": 2,
     "metadata": {},
     "output_type": "execute_result"
    }
   ],
   "source": [
    "import numpy as np\n",
    "\n",
    "locks, keys = [], []\n",
    "for schematic in data:\n",
    "    drawer = locks if schematic[0] == \"1\" else keys\n",
    "    schematic = [list(row) for row in schematic.splitlines()]\n",
    "    drawer.append(np.array(schematic, dtype=int))\n",
    "len(locks), len(keys)"
   ]
  },
  {
   "cell_type": "code",
   "execution_count": 3,
   "id": "da5fe6d2-9ac4-40f6-829a-421c5a0fe006",
   "metadata": {},
   "outputs": [
    {
     "name": "stdout",
     "output_type": "stream",
     "text": [
      "CPU times: user 2.31 s, sys: 1.31 ms, total: 2.32 s\n",
      "Wall time: 127 ms\n"
     ]
    },
    {
     "data": {
      "text/plain": [
       "3090"
      ]
     },
     "execution_count": 3,
     "metadata": {},
     "output_type": "execute_result"
    }
   ],
   "source": [
    "%%time\n",
    "int(sum(((lock + key) < 2).all() for lock in locks for key in keys))"
   ]
  }
 ],
 "metadata": {
  "kernelspec": {
   "display_name": "Python 3 (ipykernel)",
   "language": "python",
   "name": "python3"
  },
  "language_info": {
   "codemirror_mode": {
    "name": "ipython",
    "version": 3
   },
   "file_extension": ".py",
   "mimetype": "text/x-python",
   "name": "python",
   "nbconvert_exporter": "python",
   "pygments_lexer": "ipython3",
   "version": "3.12.7"
  }
 },
 "nbformat": 4,
 "nbformat_minor": 5
}
