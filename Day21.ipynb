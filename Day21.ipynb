{
 "cells": [
  {
   "cell_type": "code",
   "execution_count": 1,
   "id": "2530adb7-0f49-4f10-9716-27f87db57260",
   "metadata": {},
   "outputs": [],
   "source": [
    "with open(\"Day21.txt\") as file:\n",
    "    codes = file.read().splitlines()"
   ]
  },
  {
   "cell_type": "code",
   "execution_count": 2,
   "id": "0fa40e8d-c751-401a-b640-6e588bafacf5",
   "metadata": {},
   "outputs": [],
   "source": [
    "keypad = {\n",
    "    key: (x, y) \n",
    "    for y, line in enumerate((\n",
    "        \"789\",\n",
    "        \"456\",\n",
    "        \"123\",\n",
    "        \" 0A\",\n",
    "    ))\n",
    "    for x, key in enumerate(line)\n",
    "}\n",
    "keypad_empty = keypad[\" \"]\n",
    "dirpad = {\n",
    "    d: (x, y) \n",
    "    for y, line in enumerate((\n",
    "        \" ^A\",\n",
    "        \"<v>\",\n",
    "    )) \n",
    "    for x, d in enumerate(line) \n",
    "}\n",
    "dirpad_empty = dirpad[\" \"]"
   ]
  },
  {
   "cell_type": "code",
   "execution_count": 3,
   "id": "93144105-86a6-4517-aa0f-55c389d35be9",
   "metadata": {},
   "outputs": [],
   "source": [
    "from functools import cache\n",
    "from itertools import pairwise\n",
    "\n",
    "def sequences(fkey, tkey, pad, empty):\n",
    "    (fx, fy), (tx, ty) = pad[fkey], pad[tkey]\n",
    "    dx, dy = tx - fx, ty - fy\n",
    "    if dx == dy == 0:\n",
    "        return [\"\"]\n",
    "    xs = [\"<\", \">\"][dx >= 0] * abs(dx)\n",
    "    ys = [\"^\", \"v\"][dy >= 0] * abs(dy)\n",
    "    if dx == 0:\n",
    "        return [ys]\n",
    "    elif dy == 0:\n",
    "        return [xs]\n",
    "    elif (fx, ty) == empty:\n",
    "        return [xs + ys]\n",
    "    elif (tx, fy) == empty:\n",
    "        return [ys + xs]\n",
    "    else:\n",
    "        return [xs + ys, ys + xs]\n",
    "\n",
    "@cache\n",
    "def keypad_sequences(fkey, tkey):\n",
    "    return sequences(fkey, tkey, keypad, keypad_empty)\n",
    "\n",
    "@cache\n",
    "def dirpad_sequences(fkey, tkey):\n",
    "    return sequences(fkey, tkey, dirpad, dirpad_empty)\n",
    "\n",
    "@cache\n",
    "def solve(seq, depth, root=True):\n",
    "    if not depth:\n",
    "        return len(seq)\n",
    "    get_sequences = keypad_sequences if root else dirpad_sequences\n",
    "    sequences = (\n",
    "        (seq + \"A\" for seq in get_sequences(fkey, tkey))\n",
    "        for fkey, tkey in pairwise(\"A\" + seq))\n",
    "    return sum(min(solve(seq, depth - 1, root=False) for seq in seqs) for seqs in sequences)"
   ]
  },
  {
   "cell_type": "code",
   "execution_count": 4,
   "id": "39787210-0fee-490c-8111-b9640f5d1e05",
   "metadata": {},
   "outputs": [
    {
     "name": "stdout",
     "output_type": "stream",
     "text": [
      "CPU times: user 156 μs, sys: 0 ns, total: 156 μs\n",
      "Wall time: 162 μs\n"
     ]
    },
    {
     "data": {
      "text/plain": [
       "176870"
      ]
     },
     "execution_count": 4,
     "metadata": {},
     "output_type": "execute_result"
    }
   ],
   "source": [
    "%%time\n",
    "sum(solve(code, depth=3) * int(code[:-1]) for code in codes)"
   ]
  },
  {
   "cell_type": "code",
   "execution_count": 5,
   "id": "4bf04483-d835-4517-a2fd-c6ff24eac523",
   "metadata": {},
   "outputs": [
    {
     "name": "stdout",
     "output_type": "stream",
     "text": [
      "CPU times: user 1.07 ms, sys: 12 μs, total: 1.08 ms\n",
      "Wall time: 1.08 ms\n"
     ]
    },
    {
     "data": {
      "text/plain": [
       "223902935165512"
      ]
     },
     "execution_count": 5,
     "metadata": {},
     "output_type": "execute_result"
    }
   ],
   "source": [
    "%%time\n",
    "sum(solve(code, depth=26) * int(code[:-1]) for code in codes)"
   ]
  }
 ],
 "metadata": {
  "kernelspec": {
   "display_name": "Python 3 (ipykernel)",
   "language": "python",
   "name": "python3"
  },
  "language_info": {
   "codemirror_mode": {
    "name": "ipython",
    "version": 3
   },
   "file_extension": ".py",
   "mimetype": "text/x-python",
   "name": "python",
   "nbconvert_exporter": "python",
   "pygments_lexer": "ipython3",
   "version": "3.12.7"
  }
 },
 "nbformat": 4,
 "nbformat_minor": 5
}
