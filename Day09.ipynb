{
 "cells": [
  {
   "cell_type": "code",
   "execution_count": 1,
   "id": "7b6c1651-f8d2-4219-9ec0-8c5dd59b324d",
   "metadata": {},
   "outputs": [],
   "source": [
    "with open(\"Day09.txt\") as file:\n",
    "    data = list(map(int, file.read()))"
   ]
  },
  {
   "cell_type": "code",
   "execution_count": 2,
   "id": "774e485b-7158-448b-a5f1-535f5713b805",
   "metadata": {},
   "outputs": [],
   "source": [
    "memory, file = [], 0\n",
    "for index, blocks in enumerate(data):\n",
    "    if index % 2:\n",
    "        memory.extend([None] * blocks)\n",
    "    else:\n",
    "        memory.extend([file] * blocks)\n",
    "        file += 1"
   ]
  },
  {
   "cell_type": "code",
   "execution_count": 3,
   "id": "c5e2baf6-2f8a-4ab6-bcdb-a0081cbcf360",
   "metadata": {},
   "outputs": [],
   "source": [
    "def defrag(memory):\n",
    "    memory = memory[::]\n",
    "    cursor, end = 0, len(memory) - 1\n",
    "    for i, file in enumerate(memory[::-1]):\n",
    "        if file is None:\n",
    "            continue\n",
    "        file_index = end - i\n",
    "        for j, block in enumerate(memory[cursor:]):\n",
    "            block_index = cursor + j\n",
    "            if block_index >= file_index:\n",
    "                return memory\n",
    "            if block is not None:\n",
    "                continue\n",
    "            memory[block_index] = memory[file_index]\n",
    "            memory[file_index] = None\n",
    "            cursor += j\n",
    "            break\n",
    "    return memory\n",
    "\n",
    "def checksum(memory):\n",
    "    return sum(index * file for index, file in enumerate(memory) if file is not None)"
   ]
  },
  {
   "cell_type": "code",
   "execution_count": 4,
   "id": "d86f1103-a0e2-4643-898c-3ebcec2d784d",
   "metadata": {},
   "outputs": [
    {
     "name": "stdout",
     "output_type": "stream",
     "text": [
      "CPU times: user 3.79 s, sys: 0 ns, total: 3.79 s\n",
      "Wall time: 3.8 s\n"
     ]
    },
    {
     "data": {
      "text/plain": [
       "6356833654075"
      ]
     },
     "execution_count": 4,
     "metadata": {},
     "output_type": "execute_result"
    }
   ],
   "source": [
    "%%time\n",
    "checksum(defrag(memory))"
   ]
  },
  {
   "cell_type": "code",
   "execution_count": 5,
   "id": "a44c6c56-f687-4469-b73c-7f528a199f91",
   "metadata": {},
   "outputs": [],
   "source": [
    "from collections import defaultdict, Counter\n",
    "\n",
    "def defrag_block(memory):\n",
    "    memory = memory[::]\n",
    "    file_blocks, empty_blocks, empty_index = defaultdict(list), Counter(), 0\n",
    "    for index, block in enumerate(memory):\n",
    "        if block is None:\n",
    "            empty_index = empty_index or index\n",
    "            empty_blocks[empty_index] += 1\n",
    "        else:\n",
    "            file_blocks[block].append(index)\n",
    "            empty_index = None\n",
    "    cursor, end = 0, len(memory) - 1\n",
    "    for file, blocks in sorted(file_blocks.items(), reverse=True):\n",
    "        file_size, file_start = len(blocks), blocks[0]\n",
    "        for index, empty_size in sorted(empty_blocks.items()):\n",
    "            if empty_size < file_size:\n",
    "                continue\n",
    "            if index >= file_start:\n",
    "                break\n",
    "            memory[index:index+file_size] = [file] * file_size\n",
    "            memory[file_start:file_start+file_size] = [None] * file_size\n",
    "            empty_blocks.pop(index)\n",
    "            if empty_size > file_size:\n",
    "                empty_blocks[index+file_size] = empty_size - file_size\n",
    "            break\n",
    "    return memory"
   ]
  },
  {
   "cell_type": "code",
   "execution_count": 6,
   "id": "1281748f-1746-43fb-8ea2-a4038ceb751e",
   "metadata": {},
   "outputs": [
    {
     "name": "stdout",
     "output_type": "stream",
     "text": [
      "CPU times: user 3.42 s, sys: 1 ms, total: 3.42 s\n",
      "Wall time: 3.43 s\n"
     ]
    },
    {
     "data": {
      "text/plain": [
       "6389911791746"
      ]
     },
     "execution_count": 6,
     "metadata": {},
     "output_type": "execute_result"
    }
   ],
   "source": [
    "%%time\n",
    "checksum(defrag_block(memory))"
   ]
  }
 ],
 "metadata": {
  "kernelspec": {
   "display_name": "Python 3 (ipykernel)",
   "language": "python",
   "name": "python3"
  },
  "language_info": {
   "codemirror_mode": {
    "name": "ipython",
    "version": 3
   },
   "file_extension": ".py",
   "mimetype": "text/x-python",
   "name": "python",
   "nbconvert_exporter": "python",
   "pygments_lexer": "ipython3",
   "version": "3.12.7"
  }
 },
 "nbformat": 4,
 "nbformat_minor": 5
}
