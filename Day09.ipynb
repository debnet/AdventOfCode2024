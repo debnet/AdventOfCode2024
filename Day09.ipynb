{
 "cells": [
  {
   "cell_type": "code",
   "execution_count": 1,
   "id": "7b6c1651-f8d2-4219-9ec0-8c5dd59b324d",
   "metadata": {},
   "outputs": [],
   "source": [
    "with open(\"Day09.txt\") as file:\n",
    "    data = list(map(int, file.read()))"
   ]
  },
  {
   "cell_type": "code",
   "execution_count": 2,
   "id": "4b16d6a5-5b61-4b59-a8cd-e6d588699daf",
   "metadata": {},
   "outputs": [],
   "source": [
    "from collections import defaultdict\n",
    "\n",
    "def get_memory(data):\n",
    "    file, total = 0, 0\n",
    "    file_blocks, empty_blocks = defaultdict(list), []\n",
    "    for index, size in enumerate(data):\n",
    "        if not size:\n",
    "            continue\n",
    "        blocks = list(range(total, total + size))\n",
    "        if index % 2:\n",
    "            empty_blocks.append(blocks)\n",
    "        else:\n",
    "            file_blocks[file] = blocks\n",
    "            file += 1\n",
    "        total += size\n",
    "    return file_blocks, empty_blocks\n",
    "\n",
    "def get_checksum(file_blocks):\n",
    "    return sum(file * block for file, blocks in file_blocks.items() for block in blocks)"
   ]
  },
  {
   "cell_type": "code",
   "execution_count": 3,
   "id": "6b575e23-c972-4abf-bf1b-0e15d0e15537",
   "metadata": {},
   "outputs": [],
   "source": [
    "from bisect import insort\n",
    "from queue import deque\n",
    "\n",
    "def defrag(data):\n",
    "    file_blocks, empty_blocks = get_memory(data)\n",
    "    empties = deque(block for blocks in empty_blocks for block in blocks)\n",
    "    for file, blocks in sorted(file_blocks.items(), reverse=True):\n",
    "        for index, block in enumerate(blocks):\n",
    "            if block < empties[0]:\n",
    "                return get_checksum(file_blocks)\n",
    "            blocks[index] = empties.popleft()\n",
    "            insort(empties, block)"
   ]
  },
  {
   "cell_type": "code",
   "execution_count": 4,
   "id": "5bef384e-f9a5-40e4-818e-5233eb9f1e1f",
   "metadata": {},
   "outputs": [
    {
     "name": "stdout",
     "output_type": "stream",
     "text": [
      "CPU times: user 172 ms, sys: 3.97 ms, total: 176 ms\n",
      "Wall time: 175 ms\n"
     ]
    },
    {
     "data": {
      "text/plain": [
       "6356833654075"
      ]
     },
     "execution_count": 4,
     "metadata": {},
     "output_type": "execute_result"
    }
   ],
   "source": [
    "%%time\n",
    "defrag(data)"
   ]
  },
  {
   "cell_type": "code",
   "execution_count": 5,
   "id": "8d96e119-0e08-4d47-a410-915675d60d53",
   "metadata": {},
   "outputs": [],
   "source": [
    "def defrag_blocks(data):\n",
    "    file_blocks, empty_blocks = get_memory(data)\n",
    "    for file, blocks in sorted(file_blocks.items(), reverse=True):\n",
    "        file_size = len(blocks)\n",
    "        for index, empty_block in enumerate(empty_blocks):\n",
    "            empty_size = len(empty_block)\n",
    "            if file_size > empty_size:\n",
    "                continue\n",
    "            if not empty_block or blocks[0] < empty_block[0]:\n",
    "                break\n",
    "            blocks[:] = empty_block[:file_size]\n",
    "            empty_block[:] = empty_block[file_size:]\n",
    "            if not empty_block:\n",
    "                del empty_blocks[index]\n",
    "            break\n",
    "    return get_checksum(file_blocks)"
   ]
  },
  {
   "cell_type": "code",
   "execution_count": 6,
   "id": "da5cf1ae-9f34-44ae-aea5-3ec89cd26581",
   "metadata": {},
   "outputs": [
    {
     "name": "stdout",
     "output_type": "stream",
     "text": [
      "CPU times: user 78.3 ms, sys: 1.96 ms, total: 80.3 ms\n",
      "Wall time: 80.1 ms\n"
     ]
    },
    {
     "data": {
      "text/plain": [
       "6389911791746"
      ]
     },
     "execution_count": 6,
     "metadata": {},
     "output_type": "execute_result"
    }
   ],
   "source": [
    "%%time\n",
    "defrag_blocks(data)"
   ]
  }
 ],
 "metadata": {
  "kernelspec": {
   "display_name": "Python 3 (ipykernel)",
   "language": "python",
   "name": "python3"
  },
  "language_info": {
   "codemirror_mode": {
    "name": "ipython",
    "version": 3
   },
   "file_extension": ".py",
   "mimetype": "text/x-python",
   "name": "python",
   "nbconvert_exporter": "python",
   "pygments_lexer": "ipython3",
   "version": "3.12.7"
  }
 },
 "nbformat": 4,
 "nbformat_minor": 5
}
