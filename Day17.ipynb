{
 "cells": [
  {
   "cell_type": "code",
   "execution_count": 1,
   "id": "5b3dda6e-be65-4649-91c2-0abec466785b",
   "metadata": {},
   "outputs": [],
   "source": [
    "import re\n",
    "\n",
    "with open(\"Day17.txt\") as file:\n",
    "    a, b, c, *ins = map(int, re.findall(r\"\\d+\", file.read()))"
   ]
  },
  {
   "cell_type": "code",
   "execution_count": 2,
   "id": "aa5e4c4d-1998-42f1-a0a0-5c6ec8147825",
   "metadata": {},
   "outputs": [],
   "source": [
    "def run(ins, a=0, b=0, c=0):\n",
    "    i, r = 0, []\n",
    "    while i < len(ins):\n",
    "        v = {0: 0, 1: 1, 2: 2, 3: 3, 4: a, 5: b, 6: c}\n",
    "        o = ins[i + 1]\n",
    "        match ins[i]:\n",
    "            case 0: a >>= v[o]\n",
    "            case 1: b ^= o\n",
    "            case 2: b = 7 & v[o]\n",
    "            case 3: i = o - 2 if a else i\n",
    "            case 4: b ^= c\n",
    "            case 5: r += [v[o] & 7]\n",
    "            case 6: b = a >> v[o]\n",
    "            case 7: c = a >> v[o]\n",
    "        i += 2\n",
    "    return r"
   ]
  },
  {
   "cell_type": "code",
   "execution_count": 3,
   "id": "67bba37d-4d78-4280-8927-a809f2e2e574",
   "metadata": {},
   "outputs": [
    {
     "name": "stdout",
     "output_type": "stream",
     "text": [
      "1,7,2,1,4,1,5,4,0\n"
     ]
    }
   ],
   "source": [
    "print(*run(ins, a, b, c), sep=\",\")"
   ]
  },
  {
   "cell_type": "code",
   "execution_count": 4,
   "id": "260619dd-08f5-4095-8a82-5d2aa56e8e76",
   "metadata": {},
   "outputs": [],
   "source": [
    "def solve(ins, a=0, d=0):\n",
    "    if d == len(ins):\n",
    "        return a\n",
    "    for i in range(8):\n",
    "        na = a * 8 + i\n",
    "        r = run(ins, na)\n",
    "        if r[0] != ins[-d-1]:\n",
    "            continue\n",
    "        if r := solve(ins, na, d + 1):\n",
    "            return r\n",
    "    return 0"
   ]
  },
  {
   "cell_type": "code",
   "execution_count": 5,
   "id": "a48451ef-37b5-48ed-86f7-7b9b66d256f4",
   "metadata": {},
   "outputs": [
    {
     "data": {
      "text/plain": [
       "37221261688308"
      ]
     },
     "execution_count": 5,
     "metadata": {},
     "output_type": "execute_result"
    }
   ],
   "source": [
    "solve(ins)"
   ]
  }
 ],
 "metadata": {
  "kernelspec": {
   "display_name": "Python 3 (ipykernel)",
   "language": "python",
   "name": "python3"
  },
  "language_info": {
   "codemirror_mode": {
    "name": "ipython",
    "version": 3
   },
   "file_extension": ".py",
   "mimetype": "text/x-python",
   "name": "python",
   "nbconvert_exporter": "python",
   "pygments_lexer": "ipython3",
   "version": "3.12.7"
  }
 },
 "nbformat": 4,
 "nbformat_minor": 5
}
