{
 "cells": [
  {
   "cell_type": "code",
   "execution_count": 1,
   "id": "4ef96494-edcf-41ac-9dab-1f901a5d04b4",
   "metadata": {},
   "outputs": [],
   "source": [
    "with open(\"Day19.txt\") as file:\n",
    "    towels = file.readline().strip().split(\", \")\n",
    "    designs = file.read().strip().splitlines()"
   ]
  },
  {
   "cell_type": "code",
   "execution_count": 2,
   "id": "ba4d3161-04cf-4490-ad9a-0331e3b367fa",
   "metadata": {},
   "outputs": [],
   "source": [
    "from functools import cache\n",
    "\n",
    "@cache\n",
    "def count(design, start=0):\n",
    "    if start >= len(design):\n",
    "        return 1\n",
    "    return sum(\n",
    "        count(design, start+len(towel)) \n",
    "        for towel in towels \n",
    "        if design[start:start+len(towel)] == towel)"
   ]
  },
  {
   "cell_type": "code",
   "execution_count": 3,
   "id": "096d2479-524c-448d-a189-4b8fcd5b5ab7",
   "metadata": {},
   "outputs": [
    {
     "name": "stdout",
     "output_type": "stream",
     "text": [
      "CPU times: user 412 ms, sys: 1.64 ms, total: 414 ms\n",
      "Wall time: 414 ms\n"
     ]
    },
    {
     "data": {
      "text/plain": [
       "267"
      ]
     },
     "execution_count": 3,
     "metadata": {},
     "output_type": "execute_result"
    }
   ],
   "source": [
    "%%time\n",
    "sum(count(design) > 0 for design in designs)"
   ]
  },
  {
   "cell_type": "code",
   "execution_count": 4,
   "id": "31b16158-13b1-4fd1-8b37-291c679c66f4",
   "metadata": {},
   "outputs": [
    {
     "name": "stdout",
     "output_type": "stream",
     "text": [
      "CPU times: user 47 μs, sys: 2 μs, total: 49 μs\n",
      "Wall time: 50.8 μs\n"
     ]
    },
    {
     "data": {
      "text/plain": [
       "796449099271652"
      ]
     },
     "execution_count": 4,
     "metadata": {},
     "output_type": "execute_result"
    }
   ],
   "source": [
    "%%time\n",
    "sum(map(count, designs))"
   ]
  }
 ],
 "metadata": {
  "kernelspec": {
   "display_name": "Python 3 (ipykernel)",
   "language": "python",
   "name": "python3"
  },
  "language_info": {
   "codemirror_mode": {
    "name": "ipython",
    "version": 3
   },
   "file_extension": ".py",
   "mimetype": "text/x-python",
   "name": "python",
   "nbconvert_exporter": "python",
   "pygments_lexer": "ipython3",
   "version": "3.12.7"
  }
 },
 "nbformat": 4,
 "nbformat_minor": 5
}
