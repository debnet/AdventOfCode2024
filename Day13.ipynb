{
 "cells": [
  {
   "cell_type": "code",
   "execution_count": 1,
   "id": "352acb58-d6da-4123-8b0c-5cf2f50746ef",
   "metadata": {},
   "outputs": [],
   "source": [
    "import re\n",
    "\n",
    "button_regex = re.compile(r\"Button (?P<button>[AB]): X\\+(?P<X>\\d+), Y\\+(?P<Y>\\d+)\", re.IGNORECASE)\n",
    "prize_regex = re.compile(r\"Prize: X=(?P<X>\\d+), Y=(?P<Y>\\d+)\", re.IGNORECASE)\n",
    "\n",
    "machines = []\n",
    "with open(\"Day13.txt\") as file:\n",
    "    machine = []\n",
    "    for line in file:\n",
    "        if match := button_regex.match(line):\n",
    "            b, x, y = match.groups()\n",
    "            machine.extend([int(x), int(y)])\n",
    "        elif match := prize_regex.match(line):\n",
    "            x, y = match.groups()\n",
    "            machine.extend([int(x), int(y)])\n",
    "        else:\n",
    "            machines.append(machine)\n",
    "            machine = []\n",
    "    machines.append(machine)"
   ]
  },
  {
   "cell_type": "code",
   "execution_count": 2,
   "id": "41cd8124-30d4-437d-83f0-fe1be7a34a36",
   "metadata": {},
   "outputs": [],
   "source": [
    "import numpy as np\n",
    "\n",
    "def solve(\n",
    "    button_a_x, button_a_y, \n",
    "    button_b_x, button_b_y, \n",
    "    prize_x, prize_y, offset=0,\n",
    "    cost_a=3, cost_b=1,\n",
    "):\n",
    "    prize_x, prize_y = prize_x + offset, prize_y + offset\n",
    "    solution = np.linalg.solve(\n",
    "        np.array([\n",
    "            [button_a_x, button_b_x],\n",
    "            [button_a_y, button_b_y],\n",
    "        ], np.int64),\n",
    "        np.array([\n",
    "            [prize_x],\n",
    "            [prize_y],\n",
    "        ], np.int64),\n",
    "    )\n",
    "    press_a, press_b = round(solution[0][0]), round(solution[1][0])\n",
    "    if (\n",
    "        press_a * button_a_x + press_b * button_b_x, \n",
    "        press_a * button_a_y + press_b * button_b_y,\n",
    "    ) == (prize_x, prize_y):\n",
    "        return press_a * cost_a, press_b * cost_b\n",
    "    return 0, 0"
   ]
  },
  {
   "cell_type": "code",
   "execution_count": 3,
   "id": "00726b2b-d312-436a-b1ec-fca43300e6ab",
   "metadata": {},
   "outputs": [
    {
     "name": "stdout",
     "output_type": "stream",
     "text": [
      "CPU times: user 341 ms, sys: 1.02 ms, total: 342 ms\n",
      "Wall time: 10.5 ms\n"
     ]
    },
    {
     "data": {
      "text/plain": [
       "35255"
      ]
     },
     "execution_count": 3,
     "metadata": {},
     "output_type": "execute_result"
    }
   ],
   "source": [
    "%%time\n",
    "sum(sum(solve(*machine)) for machine in machines)"
   ]
  },
  {
   "cell_type": "code",
   "execution_count": 4,
   "id": "32c1d6f4-9877-4c8b-adfe-c7b6f82d0ada",
   "metadata": {},
   "outputs": [
    {
     "name": "stdout",
     "output_type": "stream",
     "text": [
      "CPU times: user 219 ms, sys: 64 μs, total: 219 ms\n",
      "Wall time: 6.71 ms\n"
     ]
    },
    {
     "data": {
      "text/plain": [
       "87582154060429"
      ]
     },
     "execution_count": 4,
     "metadata": {},
     "output_type": "execute_result"
    }
   ],
   "source": [
    "%%time\n",
    "sum(sum(solve(*machine, offset=10_000_000_000_000)) for machine in machines)"
   ]
  }
 ],
 "metadata": {
  "kernelspec": {
   "display_name": "Python 3 (ipykernel)",
   "language": "python",
   "name": "python3"
  },
  "language_info": {
   "codemirror_mode": {
    "name": "ipython",
    "version": 3
   },
   "file_extension": ".py",
   "mimetype": "text/x-python",
   "name": "python",
   "nbconvert_exporter": "python",
   "pygments_lexer": "ipython3",
   "version": "3.12.7"
  }
 },
 "nbformat": 4,
 "nbformat_minor": 5
}
