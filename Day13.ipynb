{
 "cells": [
  {
   "cell_type": "code",
   "execution_count": 1,
   "id": "352acb58-d6da-4123-8b0c-5cf2f50746ef",
   "metadata": {},
   "outputs": [],
   "source": [
    "import re\n",
    "\n",
    "button_regex = re.compile(r\"Button (?P<button>[AB]): X\\+(?P<X>\\d+), Y\\+(?P<Y>\\d+)\", re.IGNORECASE)\n",
    "prize_regex = re.compile(r\"Prize: X=(?P<X>\\d+), Y=(?P<Y>\\d+)\", re.IGNORECASE)\n",
    "\n",
    "machines = []\n",
    "with open(\"Day13.txt\") as file:\n",
    "    machine = []\n",
    "    for line in file:\n",
    "        if match := button_regex.match(line):\n",
    "            b, x, y = match.groups()\n",
    "            machine.extend([int(x), int(y)])\n",
    "        elif match := prize_regex.match(line):\n",
    "            x, y = match.groups()\n",
    "            machine.extend([int(x), int(y)])\n",
    "        else:\n",
    "            machines.append(machine)\n",
    "            machine = []\n",
    "    machines.append(machine)"
   ]
  },
  {
   "cell_type": "markdown",
   "id": "02f7302d-b379-46c3-96fa-b80e47889f53",
   "metadata": {},
   "source": [
    "### Numpy (fastest)"
   ]
  },
  {
   "cell_type": "code",
   "execution_count": 2,
   "id": "41cd8124-30d4-437d-83f0-fe1be7a34a36",
   "metadata": {},
   "outputs": [],
   "source": [
    "import numpy as np\n",
    "\n",
    "def solve(\n",
    "    button_a_x, button_a_y, \n",
    "    button_b_x, button_b_y, \n",
    "    prize_x, prize_y, offset=0,\n",
    "    cost_a=3, cost_b=1,\n",
    "):\n",
    "    prize_x, prize_y = prize_x + offset, prize_y + offset\n",
    "    solution = np.linalg.solve(\n",
    "        np.array([\n",
    "            [button_a_x, button_b_x],\n",
    "            [button_a_y, button_b_y],\n",
    "        ], np.int64),\n",
    "        np.array([\n",
    "            [prize_x],\n",
    "            [prize_y],\n",
    "        ], np.int64),\n",
    "    )\n",
    "    press_a, press_b = round(solution[0][0]), round(solution[1][0])\n",
    "    if (\n",
    "        press_a * button_a_x + press_b * button_b_x, \n",
    "        press_a * button_a_y + press_b * button_b_y,\n",
    "    ) == (prize_x, prize_y):\n",
    "        return press_a * cost_a, press_b * cost_b\n",
    "    return 0, 0"
   ]
  },
  {
   "cell_type": "code",
   "execution_count": 3,
   "id": "00726b2b-d312-436a-b1ec-fca43300e6ab",
   "metadata": {},
   "outputs": [
    {
     "name": "stdout",
     "output_type": "stream",
     "text": [
      "CPU times: user 127 ms, sys: 46 μs, total: 127 ms\n",
      "Wall time: 4.43 ms\n"
     ]
    },
    {
     "data": {
      "text/plain": [
       "35255"
      ]
     },
     "execution_count": 3,
     "metadata": {},
     "output_type": "execute_result"
    }
   ],
   "source": [
    "%%time\n",
    "sum(sum(solve(*machine)) for machine in machines)"
   ]
  },
  {
   "cell_type": "code",
   "execution_count": 4,
   "id": "32c1d6f4-9877-4c8b-adfe-c7b6f82d0ada",
   "metadata": {},
   "outputs": [
    {
     "name": "stdout",
     "output_type": "stream",
     "text": [
      "CPU times: user 125 ms, sys: 14 μs, total: 125 ms\n",
      "Wall time: 4.57 ms\n"
     ]
    },
    {
     "data": {
      "text/plain": [
       "87582154060429"
      ]
     },
     "execution_count": 4,
     "metadata": {},
     "output_type": "execute_result"
    }
   ],
   "source": [
    "%%time\n",
    "sum(sum(solve(*machine, offset=10_000_000_000_000)) for machine in machines)"
   ]
  },
  {
   "cell_type": "markdown",
   "id": "697f00be-8e4c-4c32-8ac4-2c6929b6731b",
   "metadata": {},
   "source": [
    "### Z3 Solver (slowest)"
   ]
  },
  {
   "cell_type": "code",
   "execution_count": 5,
   "id": "c12a2b42-7d10-4fd0-bde7-8eaca94e470f",
   "metadata": {},
   "outputs": [],
   "source": [
    "import z3\n",
    "\n",
    "def solve_z3(\n",
    "    button_a_x, button_a_y, \n",
    "    button_b_x, button_b_y, \n",
    "    prize_x, prize_y, offset=0,\n",
    "    cost_a=3, cost_b=1,\n",
    "):\n",
    "    solver = z3.Solver()\n",
    "    press_a, press_b = z3.Ints(\"press_a press_b\")\n",
    "    solver.add(press_a > 0)\n",
    "    solver.add(press_b > 0)\n",
    "    if not offset:\n",
    "        solver.add(press_a <= 100)\n",
    "        solver.add(press_b <= 100)\n",
    "    solver.add(press_a * button_a_x + press_b * button_b_x == prize_x + offset)\n",
    "    solver.add(press_a * button_a_y + press_b * button_b_y == prize_y + offset)\n",
    "    if solver.check() != z3.sat:\n",
    "        return 0, 0\n",
    "    solution = solver.model()\n",
    "    press_a, press_b = solution[press_a].as_long(), solution[press_b].as_long()\n",
    "    return press_a * cost_a, press_b * cost_b"
   ]
  },
  {
   "cell_type": "code",
   "execution_count": 6,
   "id": "10d89e26-dd49-476c-a062-e51b7b6f374c",
   "metadata": {},
   "outputs": [
    {
     "name": "stdout",
     "output_type": "stream",
     "text": [
      "CPU times: user 1.54 s, sys: 10.1 ms, total: 1.55 s\n",
      "Wall time: 416 ms\n"
     ]
    },
    {
     "data": {
      "text/plain": [
       "35255"
      ]
     },
     "execution_count": 6,
     "metadata": {},
     "output_type": "execute_result"
    }
   ],
   "source": [
    "%%time\n",
    "sum(sum(solve_z3(*machine)) for machine in machines)"
   ]
  },
  {
   "cell_type": "code",
   "execution_count": 7,
   "id": "b8bffda4-ff63-4547-ba98-f67a75b13003",
   "metadata": {},
   "outputs": [
    {
     "name": "stdout",
     "output_type": "stream",
     "text": [
      "CPU times: user 372 ms, sys: 6.94 ms, total: 378 ms\n",
      "Wall time: 376 ms\n"
     ]
    },
    {
     "data": {
      "text/plain": [
       "87582154060429"
      ]
     },
     "execution_count": 7,
     "metadata": {},
     "output_type": "execute_result"
    }
   ],
   "source": [
    "%%time\n",
    "sum(sum(solve_z3(*machine, offset=10_000_000_000_000)) for machine in machines)"
   ]
  },
  {
   "cell_type": "markdown",
   "id": "7e70c9e1-d545-4cd8-96b2-066ad02ae0cd",
   "metadata": {},
   "source": [
    "### Sympy"
   ]
  },
  {
   "cell_type": "code",
   "execution_count": 8,
   "id": "04be5a75-9717-4cb4-8f4b-d2c03f846f3c",
   "metadata": {},
   "outputs": [],
   "source": [
    "import sympy\n",
    "\n",
    "def solve_sympy(\n",
    "    button_a_x, button_a_y, \n",
    "    button_b_x, button_b_y, \n",
    "    prize_x, prize_y, offset=0,\n",
    "    cost_a=3, cost_b=1,\n",
    "):\n",
    "    prize_x, prize_y = prize_x + offset, prize_y + offset\n",
    "    A = sympy.Matrix([\n",
    "        [button_a_x, button_b_x],\n",
    "        [button_a_y, button_b_y],\n",
    "    ])\n",
    "    b = sympy.Matrix([\n",
    "        [prize_x],\n",
    "        [prize_y],\n",
    "    ])\n",
    "    press_a, press_b = sympy.symbols(\"press_a, press_b\")\n",
    "    solution = sympy.linsolve((A, b), [press_a, press_b])\n",
    "    press_a, press_b = [int(x) for sol in solution for x in sol]\n",
    "    if (\n",
    "        press_a * button_a_x + press_b * button_b_x, \n",
    "        press_a * button_a_y + press_b * button_b_y,\n",
    "    ) == (prize_x, prize_y):\n",
    "        return press_a * cost_a, press_b * cost_b\n",
    "    return 0, 0"
   ]
  },
  {
   "cell_type": "code",
   "execution_count": 9,
   "id": "e5f68501-b263-446e-a657-44aa91c4e395",
   "metadata": {},
   "outputs": [
    {
     "name": "stdout",
     "output_type": "stream",
     "text": [
      "CPU times: user 217 ms, sys: 3.95 ms, total: 221 ms\n",
      "Wall time: 221 ms\n"
     ]
    },
    {
     "data": {
      "text/plain": [
       "35255"
      ]
     },
     "execution_count": 9,
     "metadata": {},
     "output_type": "execute_result"
    }
   ],
   "source": [
    "%%time\n",
    "sum(sum(solve_sympy(*machine)) for machine in machines)"
   ]
  },
  {
   "cell_type": "code",
   "execution_count": 10,
   "id": "f55ffc0d-a732-4fdf-8af1-0f6267ec62db",
   "metadata": {},
   "outputs": [
    {
     "name": "stdout",
     "output_type": "stream",
     "text": [
      "CPU times: user 191 ms, sys: 1 ms, total: 192 ms\n",
      "Wall time: 192 ms\n"
     ]
    },
    {
     "data": {
      "text/plain": [
       "87582154060429"
      ]
     },
     "execution_count": 10,
     "metadata": {},
     "output_type": "execute_result"
    }
   ],
   "source": [
    "%%time\n",
    "sum(sum(solve_sympy(*machine, offset=10_000_000_000_000)) for machine in machines)"
   ]
  }
 ],
 "metadata": {
  "kernelspec": {
   "display_name": "Python 3 (ipykernel)",
   "language": "python",
   "name": "python3"
  },
  "language_info": {
   "codemirror_mode": {
    "name": "ipython",
    "version": 3
   },
   "file_extension": ".py",
   "mimetype": "text/x-python",
   "name": "python",
   "nbconvert_exporter": "python",
   "pygments_lexer": "ipython3",
   "version": "3.12.7"
  }
 },
 "nbformat": 4,
 "nbformat_minor": 5
}
