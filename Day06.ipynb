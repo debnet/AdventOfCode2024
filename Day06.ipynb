{
 "cells": [
  {
   "cell_type": "code",
   "execution_count": 1,
   "id": "ba10a948-1fda-404d-8a72-12f982e1135e",
   "metadata": {},
   "outputs": [],
   "source": [
    "grid, start = {}, None\n",
    "with open(\"Day06.txt\") as file:\n",
    "    for y, line in enumerate(file):\n",
    "        for x, char in enumerate(line.strip()):\n",
    "            if char == \"^\":\n",
    "                grid[x, y] = \".\"\n",
    "                start = (x, y)\n",
    "            else:\n",
    "                grid[x, y] = char"
   ]
  },
  {
   "cell_type": "code",
   "execution_count": 2,
   "id": "746064db-2224-404f-93c0-8e67dd964d4b",
   "metadata": {},
   "outputs": [],
   "source": [
    "from itertools import cycle\n",
    "\n",
    "def run(block=None, *args):\n",
    "    position, previous, visited, paths = start, start, set(), set()\n",
    "    directions = cycle(((0, -1), (+1, 0), (0, +1), (-1, 0)))\n",
    "    direction = next(directions)\n",
    "    \n",
    "    while (cell := grid.get(position)):\n",
    "        if cell == \"#\" or position == block:\n",
    "            x, y = position = previous\n",
    "            dx, dy = direction = next(directions)\n",
    "        else:\n",
    "            path = (position, direction) if block else position\n",
    "            if block and path in visited:\n",
    "                return\n",
    "            visited.add(path)\n",
    "            x, y = position\n",
    "            dx, dy = direction\n",
    "        previous = position\n",
    "        position = x + dx, y + dy\n",
    "    return visited"
   ]
  },
  {
   "cell_type": "code",
   "execution_count": 3,
   "id": "523ce034-b1cc-4e16-905e-4a65db776189",
   "metadata": {},
   "outputs": [
    {
     "data": {
      "text/plain": [
       "4722"
      ]
     },
     "execution_count": 3,
     "metadata": {},
     "output_type": "execute_result"
    }
   ],
   "source": [
    "visited = run()\n",
    "len(visited)"
   ]
  },
  {
   "cell_type": "code",
   "execution_count": 4,
   "id": "61acb830-dd18-49a8-b542-3da770a65fcd",
   "metadata": {},
   "outputs": [
    {
     "name": "stdout",
     "output_type": "stream",
     "text": [
      "CPU times: user 4.74 s, sys: 3.43 ms, total: 4.75 s\n",
      "Wall time: 4.76 s\n"
     ]
    },
    {
     "data": {
      "text/plain": [
       "1602"
      ]
     },
     "execution_count": 4,
     "metadata": {},
     "output_type": "execute_result"
    }
   ],
   "source": [
    "%%time\n",
    "sum(not run(block) for block in visited - {start})"
   ]
  }
 ],
 "metadata": {
  "kernelspec": {
   "display_name": "Python 3 (ipykernel)",
   "language": "python",
   "name": "python3"
  },
  "language_info": {
   "codemirror_mode": {
    "name": "ipython",
    "version": 3
   },
   "file_extension": ".py",
   "mimetype": "text/x-python",
   "name": "python",
   "nbconvert_exporter": "python",
   "pygments_lexer": "ipython3",
   "version": "3.12.7"
  }
 },
 "nbformat": 4,
 "nbformat_minor": 5
}
